{
 "cells": [
  {
   "cell_type": "markdown",
   "metadata": {},
   "source": [
    "Import libraries"
   ]
  },
  {
   "cell_type": "code",
   "execution_count": 1,
   "metadata": {
    "collapsed": false,
    "scrolled": false
   },
   "outputs": [],
   "source": [
    "#data loading and manipulation\n",
    "import pandas as pd\n",
    "import numpy as np\n",
    "\n",
    "#for working with file paths\n",
    "from os import path\n",
    "\n",
    "#regular expressions\n",
    "import re\n",
    "\n",
    "#punctuation\n",
    "import string\n",
    "\n",
    "#spelling\n",
    "#import enchant"
   ]
  },
  {
   "cell_type": "code",
   "execution_count": 2,
   "metadata": {
    "collapsed": true
   },
   "outputs": [],
   "source": [
    "pd.set_option('display.max_rows', 1000)"
   ]
  },
  {
   "cell_type": "markdown",
   "metadata": {},
   "source": [
    "Load exempt data\n",
    "* AQ06_where_data.csv is AQ06s submitted from 11/1/2016 50 11/15/2016\n",
    "* ANF_where_data.csv is ANFs submitted from 11/1/2016 50 11/15/2016"
   ]
  },
  {
   "cell_type": "code",
   "execution_count": 3,
   "metadata": {
    "collapsed": false
   },
   "outputs": [],
   "source": [
    "aq06_path = path.join('data', 'AQ06_where_data.csv')\n",
    "anf_path = path.join('data', 'ANF_where_data.csv')\n",
    "\n",
    "aq06 = pd.read_csv(aq06_path)\n",
    "anf = pd.read_csv(anf_path)"
   ]
  },
  {
   "cell_type": "code",
   "execution_count": 4,
   "metadata": {
    "collapsed": false
   },
   "outputs": [
    {
     "name": "stdout",
     "output_type": "stream",
     "text": [
      "(94, 7)\n"
     ]
    },
    {
     "data": {
      "text/html": [
       "<div>\n",
       "<table border=\"1\" class=\"dataframe\">\n",
       "  <thead>\n",
       "    <tr style=\"text-align: right;\">\n",
       "      <th></th>\n",
       "      <th>ADDRESS</th>\n",
       "      <th>FORMTYPE</th>\n",
       "      <th>STICKER.</th>\n",
       "      <th>CONTRACTOR</th>\n",
       "      <th>STARTDATE</th>\n",
       "      <th>ENDDATE</th>\n",
       "      <th>EXPORTDATE</th>\n",
       "    </tr>\n",
       "  </thead>\n",
       "  <tbody>\n",
       "    <tr>\n",
       "      <th>0</th>\n",
       "      <td>154-160 GROVE STREET, CHICOPEE, MA</td>\n",
       "      <td>AQ-06</td>\n",
       "      <td>100211920R7</td>\n",
       "      <td>COSTELLO DISMANTLING COMPANY, INC.</td>\n",
       "      <td>12/29/2014 0:00:00</td>\n",
       "      <td>12/23/2016 0:00:00</td>\n",
       "      <td>12/8/2016 16:43:52</td>\n",
       "    </tr>\n",
       "    <tr>\n",
       "      <th>1</th>\n",
       "      <td>8 NEWBURY STREET, BOSTON, MA</td>\n",
       "      <td>AQ-06</td>\n",
       "      <td>100216252R2</td>\n",
       "      <td>P&amp;R PARTNERS CONSTRUCTION</td>\n",
       "      <td>11/5/2016 0:00:00</td>\n",
       "      <td>11/5/2017 0:00:00</td>\n",
       "      <td>12/8/2016 16:43:52</td>\n",
       "    </tr>\n",
       "    <tr>\n",
       "      <th>2</th>\n",
       "      <td>19,21,23,25  DRYDOCK AVE., BOSTON, MA</td>\n",
       "      <td>AQ-06</td>\n",
       "      <td>100218033R2</td>\n",
       "      <td>NASDI, LLC</td>\n",
       "      <td>4/20/2015 0:00:00</td>\n",
       "      <td>5/1/2017 0:00:00</td>\n",
       "      <td>12/8/2016 16:43:52</td>\n",
       "    </tr>\n",
       "    <tr>\n",
       "      <th>3</th>\n",
       "      <td>ONE FINANCIAL CENTER, 11TH FLOOR, BOSTON, MA</td>\n",
       "      <td>AQ-06</td>\n",
       "      <td>100225105</td>\n",
       "      <td>CORDERMAN &amp; COMPANY</td>\n",
       "      <td>10/31/2016 0:00:00</td>\n",
       "      <td>12/31/2016 0:00:00</td>\n",
       "      <td>12/8/2016 16:43:52</td>\n",
       "    </tr>\n",
       "    <tr>\n",
       "      <th>4</th>\n",
       "      <td>1606 RIVERSIDE AVENUE, SOMERSET, MA</td>\n",
       "      <td>AQ-06</td>\n",
       "      <td>100243020R2</td>\n",
       "      <td>COSTELLO DISMANTLING COMPANY, INC.</td>\n",
       "      <td>5/17/2016 0:00:00</td>\n",
       "      <td>12/24/2016 0:00:00</td>\n",
       "      <td>12/8/2016 16:43:52</td>\n",
       "    </tr>\n",
       "  </tbody>\n",
       "</table>\n",
       "</div>"
      ],
      "text/plain": [
       "                                        ADDRESS FORMTYPE     STICKER.  \\\n",
       "0            154-160 GROVE STREET, CHICOPEE, MA    AQ-06  100211920R7   \n",
       "1                  8 NEWBURY STREET, BOSTON, MA    AQ-06  100216252R2   \n",
       "2         19,21,23,25  DRYDOCK AVE., BOSTON, MA    AQ-06  100218033R2   \n",
       "3  ONE FINANCIAL CENTER, 11TH FLOOR, BOSTON, MA    AQ-06    100225105   \n",
       "4           1606 RIVERSIDE AVENUE, SOMERSET, MA    AQ-06  100243020R2   \n",
       "\n",
       "                           CONTRACTOR           STARTDATE             ENDDATE  \\\n",
       "0  COSTELLO DISMANTLING COMPANY, INC.  12/29/2014 0:00:00  12/23/2016 0:00:00   \n",
       "1           P&R PARTNERS CONSTRUCTION   11/5/2016 0:00:00   11/5/2017 0:00:00   \n",
       "2                          NASDI, LLC   4/20/2015 0:00:00    5/1/2017 0:00:00   \n",
       "3                 CORDERMAN & COMPANY  10/31/2016 0:00:00  12/31/2016 0:00:00   \n",
       "4  COSTELLO DISMANTLING COMPANY, INC.   5/17/2016 0:00:00  12/24/2016 0:00:00   \n",
       "\n",
       "           EXPORTDATE  \n",
       "0  12/8/2016 16:43:52  \n",
       "1  12/8/2016 16:43:52  \n",
       "2  12/8/2016 16:43:52  \n",
       "3  12/8/2016 16:43:52  \n",
       "4  12/8/2016 16:43:52  "
      ]
     },
     "execution_count": 4,
     "metadata": {},
     "output_type": "execute_result"
    }
   ],
   "source": [
    "print aq06.shape\n",
    "aq06.head()"
   ]
  },
  {
   "cell_type": "code",
   "execution_count": 5,
   "metadata": {
    "collapsed": false
   },
   "outputs": [
    {
     "name": "stdout",
     "output_type": "stream",
     "text": [
      "(1202, 7)\n"
     ]
    },
    {
     "data": {
      "text/html": [
       "<div>\n",
       "<table border=\"1\" class=\"dataframe\">\n",
       "  <thead>\n",
       "    <tr style=\"text-align: right;\">\n",
       "      <th></th>\n",
       "      <th>ADDRESS</th>\n",
       "      <th>FORMTYPE</th>\n",
       "      <th>STICKER.</th>\n",
       "      <th>CONTRACTOR</th>\n",
       "      <th>STARTDATE</th>\n",
       "      <th>ENDDATE</th>\n",
       "      <th>EXPORTDATE</th>\n",
       "    </tr>\n",
       "  </thead>\n",
       "  <tbody>\n",
       "    <tr>\n",
       "      <th>0</th>\n",
       "      <td>115-119 HEMENWAY ST, BOSTON, MA</td>\n",
       "      <td>ANF-001</td>\n",
       "      <td>100253272</td>\n",
       "      <td>NATIONAL ABATEMENT INC</td>\n",
       "      <td>11/5/2016 0:00:00</td>\n",
       "      <td>11/30/2016 0:00:00</td>\n",
       "      <td>12/8/2016 16:42:52</td>\n",
       "    </tr>\n",
       "    <tr>\n",
       "      <th>1</th>\n",
       "      <td>700 SOUTH STREET, PITTSFIELD, MA</td>\n",
       "      <td>ANF-001</td>\n",
       "      <td>100253330</td>\n",
       "      <td>OMNI ENVIRONMENTAL LLC</td>\n",
       "      <td>11/2/2016 0:00:00</td>\n",
       "      <td>1/13/2017 0:00:00</td>\n",
       "      <td>12/8/2016 16:42:52</td>\n",
       "    </tr>\n",
       "    <tr>\n",
       "      <th>2</th>\n",
       "      <td>7 EDGAR TERRACE, SOMERVILLE, MA</td>\n",
       "      <td>ANF-001</td>\n",
       "      <td>100253332</td>\n",
       "      <td>NATIONAL ABATEMENT INC</td>\n",
       "      <td>11/2/2016 0:00:00</td>\n",
       "      <td>11/2/2016 0:00:00</td>\n",
       "      <td>12/8/2016 16:42:52</td>\n",
       "    </tr>\n",
       "    <tr>\n",
       "      <th>3</th>\n",
       "      <td>238 S MAIN STREET, FREETOWN, MA</td>\n",
       "      <td>ANF-001</td>\n",
       "      <td>100236585R11</td>\n",
       "      <td>BANNER ENVIRONMENTAL SERVICES INC</td>\n",
       "      <td>10/26/2016 0:00:00</td>\n",
       "      <td>11/2/2016 0:00:00</td>\n",
       "      <td>12/8/2016 16:42:52</td>\n",
       "    </tr>\n",
       "    <tr>\n",
       "      <th>4</th>\n",
       "      <td>5 WOODFIN TERRACE, MARBLEHEAD, MA</td>\n",
       "      <td>ANF-001</td>\n",
       "      <td>100251415R2</td>\n",
       "      <td>AIR QUALITY EXPERTS  INC</td>\n",
       "      <td>10/17/2016 0:00:00</td>\n",
       "      <td>10/28/2016 0:00:00</td>\n",
       "      <td>12/8/2016 16:42:52</td>\n",
       "    </tr>\n",
       "  </tbody>\n",
       "</table>\n",
       "</div>"
      ],
      "text/plain": [
       "                             ADDRESS FORMTYPE      STICKER.  \\\n",
       "0    115-119 HEMENWAY ST, BOSTON, MA  ANF-001     100253272   \n",
       "1   700 SOUTH STREET, PITTSFIELD, MA  ANF-001     100253330   \n",
       "2    7 EDGAR TERRACE, SOMERVILLE, MA  ANF-001     100253332   \n",
       "3    238 S MAIN STREET, FREETOWN, MA  ANF-001  100236585R11   \n",
       "4  5 WOODFIN TERRACE, MARBLEHEAD, MA  ANF-001   100251415R2   \n",
       "\n",
       "                          CONTRACTOR           STARTDATE             ENDDATE  \\\n",
       "0             NATIONAL ABATEMENT INC   11/5/2016 0:00:00  11/30/2016 0:00:00   \n",
       "1             OMNI ENVIRONMENTAL LLC   11/2/2016 0:00:00   1/13/2017 0:00:00   \n",
       "2             NATIONAL ABATEMENT INC   11/2/2016 0:00:00   11/2/2016 0:00:00   \n",
       "3  BANNER ENVIRONMENTAL SERVICES INC  10/26/2016 0:00:00   11/2/2016 0:00:00   \n",
       "4           AIR QUALITY EXPERTS  INC  10/17/2016 0:00:00  10/28/2016 0:00:00   \n",
       "\n",
       "           EXPORTDATE  \n",
       "0  12/8/2016 16:42:52  \n",
       "1  12/8/2016 16:42:52  \n",
       "2  12/8/2016 16:42:52  \n",
       "3  12/8/2016 16:42:52  \n",
       "4  12/8/2016 16:42:52  "
      ]
     },
     "execution_count": 5,
     "metadata": {},
     "output_type": "execute_result"
    }
   ],
   "source": [
    "print anf.shape\n",
    "anf.head()"
   ]
  },
  {
   "cell_type": "markdown",
   "metadata": {},
   "source": [
    "Check for and reconcile missing data"
   ]
  },
  {
   "cell_type": "code",
   "execution_count": 6,
   "metadata": {
    "collapsed": false
   },
   "outputs": [
    {
     "data": {
      "text/plain": [
       "ADDRESS       0\n",
       "FORMTYPE      0\n",
       "STICKER.      0\n",
       "CONTRACTOR    0\n",
       "STARTDATE     0\n",
       "ENDDATE       0\n",
       "EXPORTDATE    0\n",
       "dtype: int64"
      ]
     },
     "execution_count": 6,
     "metadata": {},
     "output_type": "execute_result"
    }
   ],
   "source": [
    "aq06.isnull().sum()"
   ]
  },
  {
   "cell_type": "code",
   "execution_count": 7,
   "metadata": {
    "collapsed": false
   },
   "outputs": [
    {
     "data": {
      "text/html": [
       "<div>\n",
       "<table border=\"1\" class=\"dataframe\">\n",
       "  <thead>\n",
       "    <tr style=\"text-align: right;\">\n",
       "      <th></th>\n",
       "      <th>ADDRESS</th>\n",
       "      <th>FORMTYPE</th>\n",
       "      <th>STICKER.</th>\n",
       "      <th>CONTRACTOR</th>\n",
       "      <th>STARTDATE</th>\n",
       "      <th>ENDDATE</th>\n",
       "      <th>EXPORTDATE</th>\n",
       "    </tr>\n",
       "  </thead>\n",
       "  <tbody>\n",
       "  </tbody>\n",
       "</table>\n",
       "</div>"
      ],
      "text/plain": [
       "Empty DataFrame\n",
       "Columns: [ADDRESS, FORMTYPE, STICKER., CONTRACTOR, STARTDATE, ENDDATE, EXPORTDATE]\n",
       "Index: []"
      ]
     },
     "execution_count": 7,
     "metadata": {},
     "output_type": "execute_result"
    }
   ],
   "source": [
    "aq06[aq06.FORMTYPE.isnull()]"
   ]
  },
  {
   "cell_type": "code",
   "execution_count": 8,
   "metadata": {
    "collapsed": false
   },
   "outputs": [],
   "source": [
    "def replace_null(df,col_name,value):\n",
    "    df[col_name] = df[col_name].fillna(value)\n",
    "\n",
    "replace_null(aq06,'FORMTYPE','AQ-06')"
   ]
  },
  {
   "cell_type": "code",
   "execution_count": 9,
   "metadata": {
    "collapsed": false
   },
   "outputs": [
    {
     "data": {
      "text/plain": [
       "ADDRESS       0\n",
       "FORMTYPE      0\n",
       "STICKER.      0\n",
       "CONTRACTOR    0\n",
       "STARTDATE     0\n",
       "ENDDATE       0\n",
       "EXPORTDATE    0\n",
       "dtype: int64"
      ]
     },
     "execution_count": 9,
     "metadata": {},
     "output_type": "execute_result"
    }
   ],
   "source": [
    "anf.isnull().sum()"
   ]
  },
  {
   "cell_type": "code",
   "execution_count": 10,
   "metadata": {
    "collapsed": false
   },
   "outputs": [
    {
     "data": {
      "text/plain": [
       "(1296, 7)"
      ]
     },
     "execution_count": 10,
     "metadata": {},
     "output_type": "execute_result"
    }
   ],
   "source": [
    "open_today = pd.DataFrame()\n",
    "open_today = open_today.append(aq06)\n",
    "open_today = open_today.append(anf)\n",
    "open_today.shape"
   ]
  },
  {
   "cell_type": "code",
   "execution_count": 11,
   "metadata": {
    "collapsed": false
   },
   "outputs": [
    {
     "name": "stdout",
     "output_type": "stream",
     "text": [
      "Empty DataFrame\n",
      "Columns: [ADDRESS, FORMTYPE, STICKER., CONTRACTOR, STARTDATE, ENDDATE, EXPORTDATE]\n",
      "Index: []\n"
     ]
    }
   ],
   "source": [
    "#check for SAME\n",
    "print open_today.loc[open_today['CONTRACTOR']=='SAME']"
   ]
  },
  {
   "cell_type": "code",
   "execution_count": 12,
   "metadata": {
    "collapsed": false
   },
   "outputs": [
    {
     "name": "stdout",
     "output_type": "stream",
     "text": [
      "ANF-001    1202\n",
      "AQ-06        94\n",
      "Name: FORMTYPE, dtype: int64\n"
     ]
    }
   ],
   "source": [
    "#check FORMTYPE values\n",
    "print open_today['FORMTYPE'].value_counts()"
   ]
  },
  {
   "cell_type": "code",
   "execution_count": 13,
   "metadata": {
    "collapsed": false
   },
   "outputs": [],
   "source": [
    "#clean up FORMTYPE\n",
    "open_today.loc[open_today['FORMTYPE'].str.contains('06'),'FORMTYPE']='aq06'\n",
    "open_today.loc[open_today['FORMTYPE'].str.contains('001'),'FORMTYPE']='anf001'"
   ]
  },
  {
   "cell_type": "markdown",
   "metadata": {},
   "source": [
    "Remove punctuation from all text fields and convert to uppercase"
   ]
  },
  {
   "cell_type": "code",
   "execution_count": 14,
   "metadata": {
    "collapsed": true
   },
   "outputs": [],
   "source": [
    "#copy CONTRACTOR to CON to preserve original name; all edtis to be done on CON\n",
    "for row in open_today:\n",
    "    open_today['CON'] = open_today['CONTRACTOR']"
   ]
  },
  {
   "cell_type": "code",
   "execution_count": 15,
   "metadata": {
    "collapsed": false
   },
   "outputs": [
    {
     "name": "stdout",
     "output_type": "stream",
     "text": [
      "183\n"
     ]
    },
    {
     "data": {
      "text/plain": [
       "AIR SAFE  INC                                  74\n",
       "DEC-TAM CORPORATION                            42\n",
       "FJC ENTERPRISES INC                            40\n",
       "ABIDE INC                                      32\n",
       "A & E ENVIRONMENTAL INC                        30\n",
       "S & S ABATEMENT LLC                            29\n",
       "NORTHSTAR CONTRACTING GROUP INC                29\n",
       "ACME ABATEMENT CONTRACTOR INC                  28\n",
       "NATIONAL ABATEMENT INC                         28\n",
       "BANNER ENVIRONMENTAL SERVICES INC              26\n",
       "NEW ENGLAND SURFACE MAINTENANCE LLP            25\n",
       "MORAN ENVIRONMENTAL RECOVERY LLC               24\n",
       "NON LICENSED REMOVAL                           23\n",
       "NEW ROADS ENVIRONMENTAL SERVICES LLC           23\n",
       "ASBESTOS FREE  INC                             22\n",
       "GREEN ENVIRONMENTAL                            21\n",
       "CLEAN AIR ENVIRONMENTAL INC                    20\n",
       "ACCOLADE ENVIRO                                20\n",
       "NORTHEAST REMEDIATION                          19\n",
       "ENVIRONMENTAL RESPONSE SERVICES  INC           19\n",
       "WALSH ENVIRONMENTAL SERVICES                   18\n",
       "BAYSTATE CONTRACTING SERVICES  INC             17\n",
       "COMPASS RESTORATION SERVICE SERVICES  LLC      17\n",
       "KARMA ENVIRONMENTAL SVS INC                    16\n",
       "E&F ENVIRONMENTAL SERVICES LLC                 14\n",
       "AMERICAN ENVIRONMENTAL INC                     14\n",
       "INFINITY ABATEMENT SERVICES INC                14\n",
       "BRILLIANT ENVIRONMENTAL SERVICE                13\n",
       "SEN CAM  INC                                   13\n",
       "NEW ENGLAND ASBESTOS ABATEMENT                 13\n",
       "MILL CITY ENVIRONMENTAL CORPORATION            12\n",
       "Aero Tech Environmental                        12\n",
       "THE AULSON COMPANY INC                         11\n",
       "NASDI LLC                                      11\n",
       "ASBESTOS MAN REMOVAL                           11\n",
       "TOP NOTCH ABATEMENT                            11\n",
       "ECONOMIC ENVIRO TECHS                          10\n",
       "ADVANCED ABATEMENT & INSULATION CO             10\n",
       "IMPRESAIR ENVIRONMENTAL CORPORATION            10\n",
       "CUTTING EDGE ENVIRONMENTAL                     10\n",
       "PREMIER ABATEMENT&LABOR SERVICES               10\n",
       "BARILE ENVIRONMENTAL                           10\n",
       "ENVIRO STAFFING SOLUTIONS                      10\n",
       "ENVIROGREEN LLC                                 9\n",
       "FIBER CONTROL INC                               9\n",
       "COMMERCIAL ENERGY MANAGEMENT  INC               9\n",
       "ADEP GROUP INC                                  8\n",
       "ENVIRONMENTAL RESTORATIONS INC                  8\n",
       "THE AULSON COMPANY LLC                          8\n",
       "ASSOCIATED CONTRACTORS WRECKERS INC             8\n",
       "BAYSTATE HOME GUARD  INC                        8\n",
       "ATLANTIC BAY CONTRACTING COMPANY INC            8\n",
       "A-D & T ENTERPRISE INC                          8\n",
       "SORIANO ENVIRONMENTAL                           8\n",
       "AFFORDABLE ENVIRONMENTAL                        8\n",
       "ASSOCIATED BUILDING WRECKERS                    8\n",
       "ENVIRONMENTAL SOLUTIONS  INC                    8\n",
       "WINFIELD S  HANCOCK & CO INC                    7\n",
       "ONE SOURCE ENVIRONMENTAL LLC                    7\n",
       "ENVI LABOR SERVIVES INC                         7\n",
       "ABSOLUTE ENVIRONMENTAL  INC                     7\n",
       "ULTIMATE ABATEMENT  INC                         7\n",
       "SELECT DEMO SERVICES                            7\n",
       "SPRINGFIELD ABATEMENT INC                       7\n",
       "DUDLEY SERVICES INC                             7\n",
       "NG ENVIRONMENTAL CONTRACTORS LLC                6\n",
       "ENVIROVANTAGE INC DBA LEAD SOURCE               6\n",
       "MERRIMACK ENVIRONMENTAL SOLUTION CORP           6\n",
       "Strategic Environmental Services inc            6\n",
       "ADVANCED BUILDING SYSTEMS INC                   6\n",
       "J.R. VINAGRO CORPORATION                        6\n",
       "SCS ENVIRONMENTAL SERVICES  INC                 6\n",
       "KIDDER BUILDING & WRECKING, INC.                5\n",
       "ACME CONTRACTORS INC                            5\n",
       "BRISTOL ENVIRONMENTAL  INC                      5\n",
       "FRANKLIN ANALYTICAL SERVICES                    5\n",
       "NORTH SHORE ENVIRONMENTAL SERVICE               5\n",
       "YANKEE FIBER CONTROL INC                        5\n",
       "WHALING CITY ENVIRONMENTAL                      5\n",
       "GLOBAL COMPASS INC                              5\n",
       "UNITED SERVICE COMPANY                          4\n",
       "SOUTHERN MIDDLESEX INDUSTRIES INC               4\n",
       "ALLSTATE ASBESTOS ABATEMENT                     4\n",
       "CORE CONTRACTING                                4\n",
       "AIR QUALITY EXPERTS  INC                        4\n",
       "A-BEST ABATEMENT  INC                           4\n",
       "VAREIKA CONSTRUCTION INC                        4\n",
       "A & J DEMOLITION SERVICES CORP                  4\n",
       "ATLANTIC CONTRACTING & SPECIALTIES  LLC         4\n",
       "RAY SERVICES INC                                4\n",
       "LTI ENVIRONMENTAL SERVICE INC                   4\n",
       "PRESTIGE ENVIRONMENTAL                          4\n",
       "CLEAR SERVICES ENVIRONMENTAL CONTRACTORS        4\n",
       "GEM ENVIRONMENTAL INC                           4\n",
       "COMMODORE BUILDERS                              3\n",
       "PATRIOTS ENVIRONMENTAL CORP                     3\n",
       "RMB ENVIRONMENTAL                               3\n",
       "GTA CO., INC.                                   3\n",
       "ALL STATE ABATEMENT PROFESSIONALS               3\n",
       "ENVIRONMENTAL EXPERTS INC                       3\n",
       "SUFFOLK CONSTRUCTION COMPANY                    3\n",
       "SELECT DEMO SERVICES, LLC                       3\n",
       "ERLAND CONSTRUCTION, INC.                       3\n",
       "TMC SERVICES INC                                2\n",
       "CRUZ ABATEMENT AND CONTRACTING SERVICES LLC     2\n",
       "RAY SERVICES, INC.                              2\n",
       "AMRICK LLC                                      2\n",
       "OCEAN TRACE DEMOLITION                          2\n",
       "J. CALNAN & ASSOCIATES, INC.                    2\n",
       "AMERICAN CONSTRUCTION TRADES CORPORATION        2\n",
       "MCCONNELL ENTERPRISES INC                       2\n",
       "CONSIGLI CONSTRUCTION CO.,INC                   2\n",
       "COMPLETE HOME GROUP, LLC                        2\n",
       "BIG SHIP BUILDERS                               2\n",
       "PENIEL ENVIRONMENTAL SOLUTIONS LLC              2\n",
       "ALL STATE ENVIRONMENTAL INC                     2\n",
       "RYKOR CONCRETE & CIVIL                          2\n",
       "AMERICAN ENVIRONMENTAL                          2\n",
       "COSTELLO DISMANTLING COMPANY, INC.              2\n",
       "JR VINAGRO CORPORATION                          2\n",
       "OMNI ENVIRONMENTAL LLC                          2\n",
       "GOMES REMOVAL SERVICES                          2\n",
       "HIGHLAND DEVELOPMENT                            1\n",
       "WESTERN MASS ENVIRONMENTAL LLC                  1\n",
       "JDC DEMOLITION COMPANY, INC                     1\n",
       "JDC DEMOLITION COMPANY, INC.                    1\n",
       "G. GREENE CONSTRUCTION                          1\n",
       "R.W. HYDE CONSTRUCTION, INC                     1\n",
       "RAMCO SURVEY STAKES INC                         1\n",
       "HAZARDOUS ABATEMENT SERVICES                    1\n",
       "CLEAN AIR ENVIRONMENTAL                         1\n",
       "SMS SERVICES, INC.                              1\n",
       "PLAINVILLE PUMP AND EXCAVATING                  1\n",
       "BRADY SULLIVAN CONTRACTING LLC                  1\n",
       "S & R CORPORATION                               1\n",
       "WESCOR LTD                                      1\n",
       "WALSH BROTHERS INC                              1\n",
       "JAY-MOR ENTERPRISES INC                         1\n",
       "ELITE ENVIRONMENTAL SOLUTIONS, LLC              1\n",
       "J.R VINAGRO CORPORATION                         1\n",
       "SITECON CORPORATION                             1\n",
       "AM ENTERPRISES CORP                             1\n",
       "NEW HORIZONS AT MARLBOROUGH                     1\n",
       "BIG SHIP BUILDERS, LLC                          1\n",
       "RHC GENERAL CONTRACTING, INC.                   1\n",
       "BRAND ENERGY SERVICES                           1\n",
       "SMOKE CLEAN OF MASSACHUSETTS                    1\n",
       "NASDI, LLC                                      1\n",
       "NEI GENERAL CONTRACTING INC.                    1\n",
       "MCCONNELL ENTERPRISES, INC.                     1\n",
       "SMS SERVICES INC.                               1\n",
       "S O M  CONSTRUCTION  ENTERPRISES                1\n",
       "LAKE CONTRACTING, INC                           1\n",
       "SIEMENS INDUSTRY, INC.                          1\n",
       "Atlantic Coast Dismantling                      1\n",
       "S & R CONTRACTING                               1\n",
       "DELLBROOK JK SCANLAN                            1\n",
       "ZONE MECHANICAL                                 1\n",
       "R G ENVIRONMENTAL LLC                           1\n",
       "WIRELESS CONSTRUCTION                           1\n",
       "ROBERT COMMERCIAL CONSTRUCTION                  1\n",
       "COLUMBIA CONSTRUCTION                           1\n",
       "ENCORE CONTRACTING SERVICES INC                 1\n",
       "BOND                                            1\n",
       "NEW ENGLAND ABATEMENT RESOURCES INC             1\n",
       "GOLDEN GATES SERVICES INC                       1\n",
       "UNIFIED CONSTRUCTION                            1\n",
       "P&R PARTNERS CONSTRUCTION                       1\n",
       "TRITON LEASING & RENTAL INC                     1\n",
       "SMI DEMOLITION, INC.                            1\n",
       "TURNER CONSTRUCTION                             1\n",
       "CORDERMAN & COMPANY                             1\n",
       "AMERICAN ENVIRONMENTAL DEMOLITION               1\n",
       "MORRISSEY CONSTRUCTION CORP.                    1\n",
       "IMPERIAL DEMOLITION                             1\n",
       "TOCCI BUILDING CORPORATION                      1\n",
       "PETER GREIFER ENTERPRISES  INC                  1\n",
       "CATAMOUNT ENVIRONMENTAL INC                     1\n",
       "J. CALNAN & ASSOCIATES                          1\n",
       "RIGGS CONTRACTING INC                           1\n",
       "ALLISON COMPANY                                 1\n",
       "HOMELAND BUILDERS                               1\n",
       "NG ENVIRONMENTAL CONTRACTORS, LLC               1\n",
       "Name: CON, dtype: int64"
      ]
     },
     "execution_count": 15,
     "metadata": {},
     "output_type": "execute_result"
    }
   ],
   "source": [
    "#count unique CON\n",
    "print len(open_today['CON'].value_counts())\n",
    "open_today['CON'].value_counts()"
   ]
  },
  {
   "cell_type": "code",
   "execution_count": 16,
   "metadata": {
    "collapsed": false
   },
   "outputs": [],
   "source": [
    "def upper_no_punct(df,col_name):\n",
    "    for field in df[col_name]:\n",
    "        new_field = field.translate(None, string.punctuation).upper()\n",
    "        df[col_name] = df[col_name].replace(field,new_field)\n",
    "\n",
    "upper_no_punct(open_today,'CON')\n",
    "#370-->341 aq06 only\n",
    "#502-->463 aq06 + anf"
   ]
  },
  {
   "cell_type": "code",
   "execution_count": 17,
   "metadata": {
    "collapsed": true
   },
   "outputs": [],
   "source": [
    "#Replaces 'pattern' in 'string' with 'sub' if 'pattern' starts 'string'\n",
    "def lreplace(pattern, sub, string):\n",
    "    return re.sub('^%s' % pattern, sub, string)\n",
    "\n",
    "#Replaces 'pattern' in 'string' with 'sub' if 'pattern' ends 'string'\n",
    "def rreplace(pattern, sub, string):\n",
    "    return re.sub('%s$' % pattern, sub, string)"
   ]
  },
  {
   "cell_type": "code",
   "execution_count": 18,
   "metadata": {
    "collapsed": false
   },
   "outputs": [],
   "source": [
    "#standardize abbreviations and misspellings\n",
    "def remove_abbrev(df, col_name, old_string, new_string):\n",
    "    for field in df[col_name]:\n",
    "        new_field = field.replace(old_string,new_string)\n",
    "        df[col_name] = df[col_name].replace(field,new_field)\n",
    "\n",
    "#remove abbreviations that appear at the end of the string only (ex: CO at the end, but not CO in CONSTRUCTION)\n",
    "def remove_ending(df, col_name, ending):\n",
    "    for field in df.loc[df[col_name].str.endswith(ending),col_name]:\n",
    "        new_field = rreplace(ending,'',field)\n",
    "        new_field = new_field.rstrip()\n",
    "        df[col_name] = df[col_name].replace(field,new_field)"
   ]
  },
  {
   "cell_type": "code",
   "execution_count": 19,
   "metadata": {
    "collapsed": true
   },
   "outputs": [],
   "source": [
    "#slower?\n",
    "abbrevs = {\n",
    "    'AND':('ADN',),\n",
    "    'BRO':('BROS',\n",
    "           'BROTHER',\n",
    "           'BROTHERS'),\n",
    "    'BUILDING':('BUIDLING',\n",
    "                'BUILIDNG'),\n",
    "    'CAULFIELD':('CAULLFIELD',),\n",
    "    'CONSTRUCTION':('CONSTRCTION',\n",
    "                    'CONSTRCUTION',\n",
    "                    'CONSTRUCION',\n",
    "                    'CONSTRUCTON',\n",
    "                    'CONSTRUCTUON',\n",
    "                    'CONSTRUTION',\n",
    "                    'CONTRUCTION',),\n",
    "    'CORP':('CORPORATION',\n",
    "            'CORPORATIO',\n",
    "            'CORPOTATION',),\n",
    "    'DESIGN':('DEISGN',),\n",
    "    'DEMO':('DEMOLIITION',\n",
    "            'DEMOLITION',\n",
    "            'DEMOLTION'),\n",
    "    'ENVIRONMENTAL':('ENVIRONMENATL',\n",
    "                    'ENVIRONMETAL'),\n",
    "    'INC':('INCORPORATED',),\n",
    "    'JK SCANLAN':('JKS',),\n",
    "    'SHAWMUT':('SAHWMUT',),\n",
    "    'STRUCTURETONE':('STRUCTURE TONE',\n",
    "                    'STURUCTURE TONE',),\n",
    "    'SON':('SONS',),\n",
    "    'DISMANTLING':('DISMANTLIING',),\n",
    "}\n",
    "\n",
    "spacing = {\n",
    "    ' ':('  ',),\n",
    "}\n",
    "\n",
    "endings = [\n",
    "    'LLC',\n",
    "    'COINC',\n",
    "    'INC',\n",
    "    'COMPANY',\n",
    "    'CORP',\n",
    "    'LLP',\n",
    "    'DESIGN',\n",
    "    'CO',\n",
    "    'CONC',\n",
    "    'MANAGERS',\n",
    "    'GROUP',\n",
    "    'SERVICES',\n",
    "    'SERVICE',\n",
    "    'AND',\n",
    "]\n",
    "\n",
    "for new_string, old_strings in abbrevs.iteritems():\n",
    "    for old_string in old_strings: \n",
    "        remove_abbrev(open_today, 'CON', old_string, new_string)\n",
    "\n",
    "for ending in endings:\n",
    "        remove_ending(open_today, 'CON', ending)\n",
    "        \n",
    "for new_string, old_strings in spacing.iteritems():\n",
    "    for old_string in old_strings: \n",
    "        remove_abbrev(open_today, 'CON', old_string, new_string)\n",
    "#341-->273 aq06 only\n",
    "#463--382 aq06 + anf"
   ]
  },
  {
   "cell_type": "code",
   "execution_count": 20,
   "metadata": {
    "collapsed": false
   },
   "outputs": [
    {
     "name": "stdout",
     "output_type": "stream",
     "text": [
      "169\n"
     ]
    },
    {
     "data": {
      "text/plain": [
       "AIR SAFE                                    74\n",
       "DECTAM                                      42\n",
       "FJC ENTERPRISES                             40\n",
       "ABIDE                                       32\n",
       "A E ENVIRONMENTAL                           30\n",
       "NORTHSTAR CONTRACTING                       29\n",
       "S S ABATEMENT                               29\n",
       "NATIONAL ABATEMENT                          28\n",
       "ACME ABATEMENT CONTRACTOR                   28\n",
       "BANNER ENVIRONMENTAL                        26\n",
       "NEW ENGLAND SURFACE MAINTENANCE             25\n",
       "MORAN ENVIRONMENTAL RECOVERY                24\n",
       "NON LICENSED REMOVAL                        23\n",
       "NEW ROADS ENVIRONMENTAL                     23\n",
       "ASBESTOS FREE                               22\n",
       "GREEN ENVIRONMENTAL                         21\n",
       "CLEAN AIR ENVIRONMENTAL                     21\n",
       "ACCOLADE ENVIRO                             20\n",
       "THE AULSON                                  19\n",
       "NORTHEAST REMEDIATION                       19\n",
       "ENVIRONMENTAL RESPONSE                      19\n",
       "WALSH ENVIRONMENTAL                         18\n",
       "BAYSTATE CONTRACTING                        17\n",
       "COMPASS RESTORATION                         17\n",
       "KARMA ENVIRONMENTAL SVS                     16\n",
       "AMERICAN ENVIRONMENTAL                      16\n",
       "EF ENVIRONMENTAL                            14\n",
       "INFINITY ABATEMENT                          14\n",
       "SEN CAM                                     13\n",
       "NEW ENGLAND ASBESTOS ABATEMENT              13\n",
       "BRILLIANT ENVIRONMENTAL                     13\n",
       "NASDI                                       12\n",
       "MILL CITY ENVIRONMENTAL                     12\n",
       "AERO TECH ENVIRONMENTAL                     12\n",
       "TOP NOTCH ABATEMENT                         11\n",
       "ASBESTOS MAN REMOVAL                        11\n",
       "IMPRESAIR ENVIRONMENTAL                     10\n",
       "ENVIRO STAFFING SOLUTIONS                   10\n",
       "SELECT DEMO                                 10\n",
       "ADVANCED ABATEMENT INSULATION               10\n",
       "PREMIER ABATEMENTLABOR                      10\n",
       "BARILE ENVIRONMENTAL                        10\n",
       "CUTTING EDGE ENVIRONMENTAL                  10\n",
       "ECONOMIC ENVIRO TECHS                       10\n",
       "COMMERCIAL ENERGY MANAGEMENT                 9\n",
       "FIBER CONTROL                                9\n",
       "JR VINAGRO                                   9\n",
       "ENVIROGREEN                                  9\n",
       "ENVIRONMENTAL SOLUTIONS                      8\n",
       "AFFORDABLE ENVIRONMENTAL                     8\n",
       "BAYSTATE HOME GUARD                          8\n",
       "ATLANTIC BAY CONTRACTING                     8\n",
       "AD T ENTERPRISE                              8\n",
       "ENVIRONMENTAL RESTORATIONS                   8\n",
       "ASSOCIATED CONTRACTORS WRECKERS              8\n",
       "SORIANO ENVIRONMENTAL                        8\n",
       "ADEP                                         8\n",
       "ASSOCIATED BUILDING WRECKERS                 8\n",
       "ABSOLUTE ENVIRONMENTAL                       7\n",
       "DUDLEY                                       7\n",
       "ENVI LABOR SERVIVES                          7\n",
       "ULTIMATE ABATEMENT                           7\n",
       "SPRINGFIELD ABATEMENT                        7\n",
       "NG ENVIRONMENTAL CONTRACTORS                 7\n",
       "WINFIELD S HANCOCK                           7\n",
       "ONE SOURCE ENVIRONMENTAL                     7\n",
       "MERRIMACK ENVIRONMENTAL SOLUTION             6\n",
       "SCS ENVIRONMENTAL                            6\n",
       "ENVIROVANTAGE INC DBA LEAD SOURCE            6\n",
       "ADVANCED BUILDING SYSTEMS                    6\n",
       "RAY                                          6\n",
       "STRATEGIC ENVIRONMENTAL                      6\n",
       "KIDDER BUILDING WRECKING                     5\n",
       "BRISTOL ENVIRONMENTAL                        5\n",
       "GLOBAL COMPASS                               5\n",
       "ACME CONTRACTORS                             5\n",
       "WHALING CITY ENVIRONMENTAL                   5\n",
       "YANKEE FIBER CONTROL                         5\n",
       "FRANKLIN ANALYTICAL                          5\n",
       "NORTH SHORE ENVIRONMENTAL                    5\n",
       "A J DEMO                                     4\n",
       "UNITED                                       4\n",
       "LTI ENVIRONMENTAL                            4\n",
       "VAREIKA CONSTRUCTION                         4\n",
       "ABEST ABATEMENT                              4\n",
       "AIR QUALITY EXPERTS                          4\n",
       "ATLANTIC CONTRACTING SPECIALTIES             4\n",
       "PRESTIGE ENVIRONMENTAL                       4\n",
       "CORE CONTRACTING                             4\n",
       "GEM ENVIRONMENTAL                            4\n",
       "SOUTHERN MIDDLESEX INDUSTRIES                4\n",
       "CLEAR SERVICES ENVIRONMENTAL CONTRACTORS     4\n",
       "ALLSTATE ASBESTOS ABATEMENT                  4\n",
       "RMB ENVIRONMENTAL                            3\n",
       "COMMODORE BUILDERS                           3\n",
       "GTA                                          3\n",
       "ENVIRONMENTAL EXPERTS                        3\n",
       "PATRIOTS ENVIRONMENTAL                       3\n",
       "ALL STATE ABATEMENT PROFESSIONALS            3\n",
       "BIG SHIP BUILDERS                            3\n",
       "MCCONNELL ENTERPRISES                        3\n",
       "ERLAND CONSTRUCTION                          3\n",
       "J CALNAN ASSOCIATES                          3\n",
       "SUFFOLK CONSTRUCTION                         3\n",
       "CRUZ ABATEMENT AND CONTRACTING               2\n",
       "PENIEL ENVIRONMENTAL SOLUTIONS               2\n",
       "ALL STATE ENVIRONMENTAL                      2\n",
       "COMPLETE HOME                                2\n",
       "OMNI ENVIRONMENTAL                           2\n",
       "JDC DEMO                                     2\n",
       "AMERICAN CONSTRUCTION TRADES                 2\n",
       "OCEAN TRACE DEMO                             2\n",
       "SMS                                          2\n",
       "AMRICK                                       2\n",
       "CONSIGLI CONSTRUCTION                        2\n",
       "COSTELLO DISMANTLING                         2\n",
       "RYKOR CONCRETE CIVIL                         2\n",
       "TMC                                          2\n",
       "GOMES REMOVAL                                2\n",
       "PETER GREIFER ENTERPRISES                    1\n",
       "NEI GENERAL CONTRACTING                      1\n",
       "HIGHLAND DEVELOPMENT                         1\n",
       "ATLANTIC COAST DISMANTLING                   1\n",
       "SIEMENS INDUSTRY                             1\n",
       "BOND                                         1\n",
       "PLAINVILLE PUMP AND EXCAVATING               1\n",
       "BRAND ENERGY                                 1\n",
       "WESCOR LTD                                   1\n",
       "R G ENVIRONMENTAL                            1\n",
       "CATAMOUNT ENVIRONMENTAL                      1\n",
       "MORRISSEY CONSTRUCTION                       1\n",
       "SMI DEMO                                     1\n",
       "NEW ENGLAND ABATEMENT RESOURCES              1\n",
       "NEW HORIZONS AT MARLBOROUGH                  1\n",
       "WESTERN MASS ENVIRONMENTAL                   1\n",
       "RIGGS CONTRACTING                            1\n",
       "S R CONTRACTING                              1\n",
       "SMOKE CLEAN OF MASSACHUSETTS                 1\n",
       "AM ENTERPRISES                               1\n",
       "S R                                          1\n",
       "G GREENE CONSTRUCTION                        1\n",
       "SITECON                                      1\n",
       "LAKE CONTRACTING                             1\n",
       "IMPERIAL DEMO                                1\n",
       "RAMCO SURVEY STAKES                          1\n",
       "DELLBROOK JK SCANLAN                         1\n",
       "ZONE MECHANICAL                              1\n",
       "RW HYDE CONSTRUCTION                         1\n",
       "GOLDEN GATES                                 1\n",
       "WIRELESS CONSTRUCTION                        1\n",
       "TRITON LEASING RENTAL                        1\n",
       "ELITE ENVIRONMENTAL SOLUTIONS                1\n",
       "S O M CONSTRUCTION ENTERPRISES               1\n",
       "COLUMBIA CONSTRUCTION                        1\n",
       "ENCORE CONTRACTING                           1\n",
       "WALSH BROS                                   1\n",
       "UNIFIED CONSTRUCTION                         1\n",
       "AMERICAN ENVIRONMENTAL DEMO                  1\n",
       "ALLISON                                      1\n",
       "TURNER CONSTRUCTION                          1\n",
       "BRADY SULLIVAN CONTRACTING                   1\n",
       "PR PARTNERS CONSTRUCTION                     1\n",
       "HAZARDOUS ABATEMENT                          1\n",
       "CORDERMAN                                    1\n",
       "TOCCI BUILDING                               1\n",
       "HOMELAND BUILDERS                            1\n",
       "ROBERT COMMERCIAL CONSTRUCTION               1\n",
       "JAYMOR ENTERPRISES                           1\n",
       "RHC GENERAL CONTRACTING                      1\n",
       "Name: CON, dtype: int64"
      ]
     },
     "execution_count": 20,
     "metadata": {},
     "output_type": "execute_result"
    }
   ],
   "source": [
    "#count unique CON\n",
    "print len(open_today['CON'].value_counts())\n",
    "open_today['CON'].value_counts()"
   ]
  },
  {
   "cell_type": "markdown",
   "metadata": {
    "collapsed": true
   },
   "source": [
    "#faster?\n",
    "abbrevs = {\n",
    "    'ADN':'AND',\n",
    "    'BROS':'BRO',\n",
    "    'BROTHER':'BRO',\n",
    "    'BROTHERS':'BRO',\n",
    "    'BUIDLING':'BUILDING',\n",
    "    'BUILIDNG':'BUILDING',\n",
    "    'CAULLFIELD':'CAULFIELD',\n",
    "    'CONSTRCTION':'CONSTRUCTION',\n",
    "    'CONSTRCUTION':'CONSTRUCTION',\n",
    "    'CONSTRUCION':'CONSTRUCTION',\n",
    "    'CONSTRUCTON':'CONSTRUCTION',\n",
    "    'CONSTRUCTUON':'CONSTRUCTION',\n",
    "    'CONSTRUTION':'CONSTRUCTION',\n",
    "    'CONTRUCTION':'CONSTRUCTION',\n",
    "    'CORPORATION':'CORP',\n",
    "    'CORPORATIO':'CORP',\n",
    "    'CORPOTATION':'CORP',\n",
    "    'DEISGN':'DESIGN',\n",
    "    'DEMOLIITION':'DEMO',\n",
    "    'DEMOLITION':'DEMO',\n",
    "    'DEMOLTION':'DEMO',\n",
    "    'DISMANTLIING':'DISMANTLING',\n",
    "    'ENVIRONMENATL':'ENVIRONMENTAL',\n",
    "    'ENVIRONMETAL':'ENVIRONMENTAL',\n",
    "    'INCORPORATED':'INC',\n",
    "    'JKS':'JK SCANLAN',\n",
    "    'SAHWMUT':'SHAWMUT',\n",
    "    'STRUCTURE TONE':'STRUCTURETONE',\n",
    "    'STURUCTURE TONE':'STRUCTURETONE',\n",
    "    'SONS':'SON',    \n",
    "}\n",
    "\n",
    "spacing = {\n",
    "    '  ':' ',\n",
    "}\n",
    "\n",
    "endings = [\n",
    "    'LLC',\n",
    "    'COINC',\n",
    "    'INC',\n",
    "    'COMPANY',\n",
    "    'CORP',\n",
    "    'LLP',\n",
    "    'DESIGN',\n",
    "    'CO',\n",
    "    'CONC',\n",
    "    'MANAGERS',\n",
    "    'GROUP',\n",
    "    'SERVICES',\n",
    "    'SERVICE',\n",
    "    'AND',\n",
    "]\n",
    "\n",
    "for old_string, new_string in abbrevs.iteritems():\n",
    "    remove_abbrev(open_today, 'CON', old_string, new_string)\n",
    "\n",
    "for ending in endings:\n",
    "    remove_ending(open_today, 'CON', ending)\n",
    "        \n",
    "for old_string, new_strings in spacing.iteritems():\n",
    "    remove_abbrev(open_today, 'CON', old_string, new_string)\n",
    "#341-->273 aq06 only\n",
    "#463--382 aq06 + anf"
   ]
  },
  {
   "cell_type": "markdown",
   "metadata": {
    "collapsed": false
   },
   "source": [
    "#standardize abbreviations and misspellings using using re.sub\n",
    "def re_remove_abbrev(df, col_name, old_string, new_string):\n",
    "    for field in df[col_name]:\n",
    "        new_field = re.sub(old_string, new_string, old_string)\n",
    "        df[col_name] = df[col_name].replace(field,new_field)\n",
    "\n",
    "#fastest?\n",
    "abbrevs = {\n",
    "    'ADN':'AND',\n",
    "    'BROS':'BRO',\n",
    "    'BROTHER':'BRO',\n",
    "    'BROTHERS':'BRO',\n",
    "    'BUIDLING':'BUILDING',\n",
    "    'BUILIDNG':'BUILDING',\n",
    "    'CAULLFIELD':'CAULFIELD',\n",
    "    'CONSTRCTION':'CONSTRUCTION',\n",
    "    'CONSTRCUTION':'CONSTRUCTION',\n",
    "    'CONSTRUCION':'CONSTRUCTION',\n",
    "    'CONSTRUCTON':'CONSTRUCTION',\n",
    "    'CONSTRUCTUON':'CONSTRUCTION',\n",
    "    'CONSTRUTION':'CONSTRUCTION',\n",
    "    'CONTRUCTION':'CONSTRUCTION',\n",
    "    'CORPORATION':'CORP',\n",
    "    'CORPORATIO':'CORP',\n",
    "    'CORPOTATION':'CORP',\n",
    "    'DEISGN':'DESIGN',\n",
    "    'DEMOLIITION':'DEMO',\n",
    "    'DEMOLITION':'DEMO',\n",
    "    'DEMOLTION':'DEMO',\n",
    "    'DISMANTLIING':'DISMANTLING',\n",
    "    'ENVIRONMENATL':'ENVIRONMENTAL',\n",
    "    'ENVIRONMETAL':'ENVIRONMENTAL',\n",
    "    'INCORPORATED':'INC',\n",
    "    'JKS':'JK SCANLAN',\n",
    "    'SAHWMUT':'SHAWMUT',\n",
    "    'STRUCTURE TONE':'STRUCTURETONE',\n",
    "    'STURUCTURE TONE':'STRUCTURETONE',\n",
    "    'SONS':'SON',    \n",
    "}\n",
    "\n",
    "spacing = {\n",
    "    '  ':' ',\n",
    "}\n",
    "\n",
    "endings = [\n",
    "    'LLC',\n",
    "    'COINC',\n",
    "    'INC',\n",
    "    'COMPANY',\n",
    "    'CORP',\n",
    "    'LLP',\n",
    "    'DESIGN',\n",
    "    'CO',\n",
    "    'CONC',\n",
    "    'MANAGERS',\n",
    "    'GROUP',\n",
    "    'SERVICES',\n",
    "    'SERVICE',\n",
    "    'AND',\n",
    "]\n",
    "\n",
    "for old_string, new_string in abbrevs.iteritems():\n",
    "    re_remove_abbrev(open_today, 'CON', old_string, new_string)\n",
    "\n",
    "#for ending in endings:\n",
    "#    remove_ending(open_today, 'CON', ending)\n",
    "        \n",
    "#for old_string, new_strings in spacing.iteritems():\n",
    "#    remove_abbrev(open_today, 'CON', old_string, new_string)\n",
    "#341-->273 aq06 only\n",
    "#463--382 aq06 + anf"
   ]
  },
  {
   "cell_type": "code",
   "execution_count": 21,
   "metadata": {
    "collapsed": true
   },
   "outputs": [],
   "source": [
    "#write data to csv\n",
    "open_today.to_csv('where.csv', columns=('ADDRESS','FORMTYPE','STICKER.','CON','STARTDATE','ENDDATE','EXPORTDATE'), header=False, index=False)"
   ]
  },
  {
   "cell_type": "code",
   "execution_count": 22,
   "metadata": {
    "collapsed": false
   },
   "outputs": [
    {
     "name": "stdout",
     "output_type": "stream",
     "text": [
      "anf001    11\n",
      "aq06       1\n",
      "Name: FORMTYPE, dtype: int64\n"
     ]
    }
   ],
   "source": [
    "con = open_today[open_today['CON'].str.contains('NASDI')]\n",
    "print con['FORMTYPE'].value_counts()"
   ]
  },
  {
   "cell_type": "code",
   "execution_count": null,
   "metadata": {
    "collapsed": true
   },
   "outputs": [],
   "source": []
  }
 ],
 "metadata": {
  "anaconda-cloud": {},
  "kernelspec": {
   "display_name": "Python [tutorial]",
   "language": "python",
   "name": "Python [tutorial]"
  },
  "language_info": {
   "codemirror_mode": {
    "name": "ipython",
    "version": 2
   },
   "file_extension": ".py",
   "mimetype": "text/x-python",
   "name": "python",
   "nbconvert_exporter": "python",
   "pygments_lexer": "ipython2",
   "version": "2.7.11"
  }
 },
 "nbformat": 4,
 "nbformat_minor": 0
}
