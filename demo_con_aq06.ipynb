{
 "cells": [
  {
   "cell_type": "markdown",
   "metadata": {},
   "source": [
    "Import libraries"
   ]
  },
  {
   "cell_type": "code",
   "execution_count": 1,
   "metadata": {
    "collapsed": false,
    "scrolled": false
   },
   "outputs": [],
   "source": [
    "#data loading and manipulation\n",
    "import pandas as pd\n",
    "import numpy as np\n",
    "\n",
    "#for working with file paths\n",
    "from os import path\n",
    "\n",
    "#regular expressions\n",
    "import re\n",
    "\n",
    "#punctuation\n",
    "import string\n",
    "\n",
    "#spelling\n",
    "#import enchant"
   ]
  },
  {
   "cell_type": "code",
   "execution_count": 2,
   "metadata": {
    "collapsed": true
   },
   "outputs": [],
   "source": [
    "pd.set_option('display.max_rows', 1000)"
   ]
  },
  {
   "cell_type": "markdown",
   "metadata": {},
   "source": [
    "Load exempt data\n",
    "* AQ06_where_data.csv is AQ06s submitted on or after 08/01/2016 and before 09/01/2016\n",
    "* ANF_where_data.csv is ANFs submitted on or after 08/01/2016 and before 09/01/2016"
   ]
  },
  {
   "cell_type": "code",
   "execution_count": 3,
   "metadata": {
    "collapsed": false
   },
   "outputs": [],
   "source": [
    "aq06_path = path.join('data', 'AQ06_where_data.csv')\n",
    "anf_path = path.join('data', 'ANF_where_data.csv')\n",
    "\n",
    "aq06 = pd.read_csv(aq06_path)\n",
    "anf = pd.read_csv(anf_path)"
   ]
  },
  {
   "cell_type": "code",
   "execution_count": 4,
   "metadata": {
    "collapsed": false
   },
   "outputs": [
    {
     "name": "stdout",
     "output_type": "stream",
     "text": [
      "(158, 7)\n"
     ]
    },
    {
     "data": {
      "text/html": [
       "<div>\n",
       "<table border=\"1\" class=\"dataframe\">\n",
       "  <thead>\n",
       "    <tr style=\"text-align: right;\">\n",
       "      <th></th>\n",
       "      <th>ADDRESS</th>\n",
       "      <th>FORMTYPE</th>\n",
       "      <th>STICKER.</th>\n",
       "      <th>CONTRACTOR</th>\n",
       "      <th>STARTDATE</th>\n",
       "      <th>ENDDATE</th>\n",
       "      <th>EXPORTDATE</th>\n",
       "    </tr>\n",
       "  </thead>\n",
       "  <tbody>\n",
       "    <tr>\n",
       "      <th>0</th>\n",
       "      <td>154-160 GROVE STREET, CHICOPEE, MA</td>\n",
       "      <td>AQ-06</td>\n",
       "      <td>100211920R6</td>\n",
       "      <td>COSTELLO DISMANTLING COMPANY, INC.</td>\n",
       "      <td>12/29/2014 0:00:00</td>\n",
       "      <td>10/30/2016 0:00:00</td>\n",
       "      <td>12/13/2016 11:30:59</td>\n",
       "    </tr>\n",
       "    <tr>\n",
       "      <th>1</th>\n",
       "      <td>451 BOSTON AVE (MEDFORD CONFIRMING THIS ADRESS...</td>\n",
       "      <td>AQ-06</td>\n",
       "      <td>100214663R1</td>\n",
       "      <td>O'CONNOR CONSTRUCTORS, INC.</td>\n",
       "      <td>2/12/2015 0:00:00</td>\n",
       "      <td>5/31/2017 0:00:00</td>\n",
       "      <td>12/13/2016 11:30:59</td>\n",
       "    </tr>\n",
       "    <tr>\n",
       "      <th>2</th>\n",
       "      <td>191 PARK STREET, NORTH READING, MA</td>\n",
       "      <td>AQ-06</td>\n",
       "      <td>100223260R2</td>\n",
       "      <td>NASDI, LLC</td>\n",
       "      <td>7/6/2015 0:00:00</td>\n",
       "      <td>8/18/2016 0:00:00</td>\n",
       "      <td>12/13/2016 11:30:59</td>\n",
       "    </tr>\n",
       "    <tr>\n",
       "      <th>3</th>\n",
       "      <td>103 MARBLE ST, SPRINGFIELD, MA</td>\n",
       "      <td>AQ-06</td>\n",
       "      <td>100228296</td>\n",
       "      <td>FONTAINE BROS., INC</td>\n",
       "      <td>9/1/2016 0:00:00</td>\n",
       "      <td>5/1/2018 0:00:00</td>\n",
       "      <td>12/13/2016 11:30:59</td>\n",
       "    </tr>\n",
       "    <tr>\n",
       "      <th>4</th>\n",
       "      <td>60 HODGES AVENUE, TAUNTON, MA</td>\n",
       "      <td>AQ-06</td>\n",
       "      <td>100233015R1</td>\n",
       "      <td>BOND BROTHERS</td>\n",
       "      <td>12/1/2015 0:00:00</td>\n",
       "      <td>12/31/2016 0:00:00</td>\n",
       "      <td>12/13/2016 11:30:59</td>\n",
       "    </tr>\n",
       "  </tbody>\n",
       "</table>\n",
       "</div>"
      ],
      "text/plain": [
       "                                             ADDRESS FORMTYPE     STICKER.  \\\n",
       "0                 154-160 GROVE STREET, CHICOPEE, MA    AQ-06  100211920R6   \n",
       "1  451 BOSTON AVE (MEDFORD CONFIRMING THIS ADRESS...    AQ-06  100214663R1   \n",
       "2                 191 PARK STREET, NORTH READING, MA    AQ-06  100223260R2   \n",
       "3                     103 MARBLE ST, SPRINGFIELD, MA    AQ-06    100228296   \n",
       "4                      60 HODGES AVENUE, TAUNTON, MA    AQ-06  100233015R1   \n",
       "\n",
       "                           CONTRACTOR           STARTDATE             ENDDATE  \\\n",
       "0  COSTELLO DISMANTLING COMPANY, INC.  12/29/2014 0:00:00  10/30/2016 0:00:00   \n",
       "1         O'CONNOR CONSTRUCTORS, INC.   2/12/2015 0:00:00   5/31/2017 0:00:00   \n",
       "2                          NASDI, LLC    7/6/2015 0:00:00   8/18/2016 0:00:00   \n",
       "3                 FONTAINE BROS., INC    9/1/2016 0:00:00    5/1/2018 0:00:00   \n",
       "4                       BOND BROTHERS   12/1/2015 0:00:00  12/31/2016 0:00:00   \n",
       "\n",
       "            EXPORTDATE  \n",
       "0  12/13/2016 11:30:59  \n",
       "1  12/13/2016 11:30:59  \n",
       "2  12/13/2016 11:30:59  \n",
       "3  12/13/2016 11:30:59  \n",
       "4  12/13/2016 11:30:59  "
      ]
     },
     "execution_count": 4,
     "metadata": {},
     "output_type": "execute_result"
    }
   ],
   "source": [
    "print aq06.shape\n",
    "aq06.head()"
   ]
  },
  {
   "cell_type": "code",
   "execution_count": 5,
   "metadata": {
    "collapsed": false
   },
   "outputs": [
    {
     "name": "stdout",
     "output_type": "stream",
     "text": [
      "(2262, 7)\n"
     ]
    },
    {
     "data": {
      "text/html": [
       "<div>\n",
       "<table border=\"1\" class=\"dataframe\">\n",
       "  <thead>\n",
       "    <tr style=\"text-align: right;\">\n",
       "      <th></th>\n",
       "      <th>ADDRESS</th>\n",
       "      <th>FORMTYPE</th>\n",
       "      <th>STICKER.</th>\n",
       "      <th>CONTRACTOR</th>\n",
       "      <th>STARTDATE</th>\n",
       "      <th>ENDDATE</th>\n",
       "      <th>EXPORTDATE</th>\n",
       "    </tr>\n",
       "  </thead>\n",
       "  <tbody>\n",
       "    <tr>\n",
       "      <th>0</th>\n",
       "      <td>70 CIRCUIT ROAD, BROOKLINE, MA</td>\n",
       "      <td>ANF-001</td>\n",
       "      <td>100249232</td>\n",
       "      <td>ENVIROGREEN LLC</td>\n",
       "      <td>8/30/2016 0:00:00</td>\n",
       "      <td>8/31/2016 0:00:00</td>\n",
       "      <td>12/13/2016 11:30:26</td>\n",
       "    </tr>\n",
       "    <tr>\n",
       "      <th>1</th>\n",
       "      <td>24 BEACON STREET, BOSTON, MA</td>\n",
       "      <td>ANF-001</td>\n",
       "      <td>100247424R1</td>\n",
       "      <td>ENCORE CONTRACTING SERVICES INC</td>\n",
       "      <td>8/18/2016 0:00:00</td>\n",
       "      <td>8/29/2016 0:00:00</td>\n",
       "      <td>12/13/2016 11:30:26</td>\n",
       "    </tr>\n",
       "    <tr>\n",
       "      <th>2</th>\n",
       "      <td>21 COLLEGE LANE, NORTHAMPTON, MA</td>\n",
       "      <td>ANF-001</td>\n",
       "      <td>100249107</td>\n",
       "      <td>ABIDE INC</td>\n",
       "      <td>8/16/2016 0:00:00</td>\n",
       "      <td>8/16/2016 0:00:00</td>\n",
       "      <td>12/13/2016 11:30:26</td>\n",
       "    </tr>\n",
       "    <tr>\n",
       "      <th>3</th>\n",
       "      <td>140 PINE ST, HYANNIS, MA</td>\n",
       "      <td>ANF-001</td>\n",
       "      <td>100246632R2</td>\n",
       "      <td>AIR SAFE  INC</td>\n",
       "      <td>8/22/2016 0:00:00</td>\n",
       "      <td>8/22/2016 0:00:00</td>\n",
       "      <td>12/13/2016 11:30:26</td>\n",
       "    </tr>\n",
       "    <tr>\n",
       "      <th>4</th>\n",
       "      <td>85 PROVIDENCE HIGHWAY, WESTWOOD, MA</td>\n",
       "      <td>ANF-001</td>\n",
       "      <td>100249263</td>\n",
       "      <td>ENVIRONMENTAL RESPONSE SERVICES  INC</td>\n",
       "      <td>8/30/2016 0:00:00</td>\n",
       "      <td>9/27/2016 0:00:00</td>\n",
       "      <td>12/13/2016 11:30:26</td>\n",
       "    </tr>\n",
       "  </tbody>\n",
       "</table>\n",
       "</div>"
      ],
      "text/plain": [
       "                               ADDRESS FORMTYPE     STICKER.  \\\n",
       "0       70 CIRCUIT ROAD, BROOKLINE, MA  ANF-001    100249232   \n",
       "1         24 BEACON STREET, BOSTON, MA  ANF-001  100247424R1   \n",
       "2     21 COLLEGE LANE, NORTHAMPTON, MA  ANF-001    100249107   \n",
       "3             140 PINE ST, HYANNIS, MA  ANF-001  100246632R2   \n",
       "4  85 PROVIDENCE HIGHWAY, WESTWOOD, MA  ANF-001    100249263   \n",
       "\n",
       "                             CONTRACTOR          STARTDATE            ENDDATE  \\\n",
       "0                       ENVIROGREEN LLC  8/30/2016 0:00:00  8/31/2016 0:00:00   \n",
       "1       ENCORE CONTRACTING SERVICES INC  8/18/2016 0:00:00  8/29/2016 0:00:00   \n",
       "2                             ABIDE INC  8/16/2016 0:00:00  8/16/2016 0:00:00   \n",
       "3                         AIR SAFE  INC  8/22/2016 0:00:00  8/22/2016 0:00:00   \n",
       "4  ENVIRONMENTAL RESPONSE SERVICES  INC  8/30/2016 0:00:00  9/27/2016 0:00:00   \n",
       "\n",
       "            EXPORTDATE  \n",
       "0  12/13/2016 11:30:26  \n",
       "1  12/13/2016 11:30:26  \n",
       "2  12/13/2016 11:30:26  \n",
       "3  12/13/2016 11:30:26  \n",
       "4  12/13/2016 11:30:26  "
      ]
     },
     "execution_count": 5,
     "metadata": {},
     "output_type": "execute_result"
    }
   ],
   "source": [
    "print anf.shape\n",
    "anf.head()"
   ]
  },
  {
   "cell_type": "markdown",
   "metadata": {},
   "source": [
    "Check for and reconcile missing data"
   ]
  },
  {
   "cell_type": "code",
   "execution_count": 6,
   "metadata": {
    "collapsed": false
   },
   "outputs": [
    {
     "data": {
      "text/plain": [
       "ADDRESS       0\n",
       "FORMTYPE      0\n",
       "STICKER.      0\n",
       "CONTRACTOR    0\n",
       "STARTDATE     0\n",
       "ENDDATE       0\n",
       "EXPORTDATE    0\n",
       "dtype: int64"
      ]
     },
     "execution_count": 6,
     "metadata": {},
     "output_type": "execute_result"
    }
   ],
   "source": [
    "aq06.isnull().sum()"
   ]
  },
  {
   "cell_type": "code",
   "execution_count": 7,
   "metadata": {
    "collapsed": false
   },
   "outputs": [
    {
     "data": {
      "text/html": [
       "<div>\n",
       "<table border=\"1\" class=\"dataframe\">\n",
       "  <thead>\n",
       "    <tr style=\"text-align: right;\">\n",
       "      <th></th>\n",
       "      <th>ADDRESS</th>\n",
       "      <th>FORMTYPE</th>\n",
       "      <th>STICKER.</th>\n",
       "      <th>CONTRACTOR</th>\n",
       "      <th>STARTDATE</th>\n",
       "      <th>ENDDATE</th>\n",
       "      <th>EXPORTDATE</th>\n",
       "    </tr>\n",
       "  </thead>\n",
       "  <tbody>\n",
       "  </tbody>\n",
       "</table>\n",
       "</div>"
      ],
      "text/plain": [
       "Empty DataFrame\n",
       "Columns: [ADDRESS, FORMTYPE, STICKER., CONTRACTOR, STARTDATE, ENDDATE, EXPORTDATE]\n",
       "Index: []"
      ]
     },
     "execution_count": 7,
     "metadata": {},
     "output_type": "execute_result"
    }
   ],
   "source": [
    "aq06[aq06.FORMTYPE.isnull()]"
   ]
  },
  {
   "cell_type": "code",
   "execution_count": 8,
   "metadata": {
    "collapsed": false
   },
   "outputs": [],
   "source": [
    "def replace_null(df,col_name,value):\n",
    "    df[col_name] = df[col_name].fillna(value)\n",
    "\n",
    "replace_null(aq06,'FORMTYPE','AQ-06')"
   ]
  },
  {
   "cell_type": "code",
   "execution_count": 9,
   "metadata": {
    "collapsed": false
   },
   "outputs": [
    {
     "data": {
      "text/plain": [
       "ADDRESS       0\n",
       "FORMTYPE      0\n",
       "STICKER.      0\n",
       "CONTRACTOR    0\n",
       "STARTDATE     0\n",
       "ENDDATE       0\n",
       "EXPORTDATE    0\n",
       "dtype: int64"
      ]
     },
     "execution_count": 9,
     "metadata": {},
     "output_type": "execute_result"
    }
   ],
   "source": [
    "anf.isnull().sum()"
   ]
  },
  {
   "cell_type": "code",
   "execution_count": 10,
   "metadata": {
    "collapsed": false
   },
   "outputs": [
    {
     "data": {
      "text/plain": [
       "(2420, 7)"
      ]
     },
     "execution_count": 10,
     "metadata": {},
     "output_type": "execute_result"
    }
   ],
   "source": [
    "open_today = pd.DataFrame()\n",
    "open_today = open_today.append(aq06)\n",
    "open_today = open_today.append(anf)\n",
    "open_today.shape"
   ]
  },
  {
   "cell_type": "code",
   "execution_count": 11,
   "metadata": {
    "collapsed": false
   },
   "outputs": [
    {
     "name": "stdout",
     "output_type": "stream",
     "text": [
      "Empty DataFrame\n",
      "Columns: [ADDRESS, FORMTYPE, STICKER., CONTRACTOR, STARTDATE, ENDDATE, EXPORTDATE]\n",
      "Index: []\n"
     ]
    }
   ],
   "source": [
    "#check for SAME\n",
    "print open_today.loc[open_today['CONTRACTOR']=='SAME']"
   ]
  },
  {
   "cell_type": "code",
   "execution_count": 12,
   "metadata": {
    "collapsed": false
   },
   "outputs": [
    {
     "name": "stdout",
     "output_type": "stream",
     "text": [
      "ANF-001    2262\n",
      "AQ-06       156\n",
      "06            2\n",
      "Name: FORMTYPE, dtype: int64\n"
     ]
    }
   ],
   "source": [
    "#check FORMTYPE values\n",
    "print open_today['FORMTYPE'].value_counts()"
   ]
  },
  {
   "cell_type": "code",
   "execution_count": 13,
   "metadata": {
    "collapsed": false
   },
   "outputs": [],
   "source": [
    "#clean up FORMTYPE\n",
    "open_today.loc[open_today['FORMTYPE'].str.contains('06'),'FORMTYPE']='aq06'\n",
    "open_today.loc[open_today['FORMTYPE'].str.contains('001'),'FORMTYPE']='anf001'"
   ]
  },
  {
   "cell_type": "markdown",
   "metadata": {},
   "source": [
    "Remove punctuation from all text fields and convert to uppercase"
   ]
  },
  {
   "cell_type": "code",
   "execution_count": 14,
   "metadata": {
    "collapsed": true
   },
   "outputs": [],
   "source": [
    "#copy CONTRACTOR to CON to preserve original name; all edtis to be done on CON\n",
    "for row in open_today:\n",
    "    open_today['CON'] = open_today['CONTRACTOR']"
   ]
  },
  {
   "cell_type": "code",
   "execution_count": 15,
   "metadata": {
    "collapsed": false
   },
   "outputs": [
    {
     "name": "stdout",
     "output_type": "stream",
     "text": [
      "236\n"
     ]
    },
    {
     "data": {
      "text/plain": [
       "ABIDE INC                                         99\n",
       "FJC ENTERPRISES INC                               99\n",
       "DEC-TAM CORPORATION                               97\n",
       "AIR SAFE  INC                                     70\n",
       "NORTHSTAR CONTRACTING GROUP INC                   63\n",
       "NON LICENSED REMOVAL                              58\n",
       "NEW ROADS ENVIRONMENTAL SERVICES LLC              54\n",
       "BAYSTATE CONTRACTING SERVICES  INC                52\n",
       "S & S ABATEMENT LLC                               45\n",
       "GREEN ENVIRONMENTAL                               45\n",
       "WALSH ENVIRONMENTAL SERVICES                      44\n",
       "CLEAN AIR ENVIRONMENTAL INC                       43\n",
       "NATIONAL ABATEMENT INC                            43\n",
       "ENVI LABOR SERVIVES INC                           42\n",
       "ASBESTOS FREE  INC                                42\n",
       "A & E ENVIRONMENTAL INC                           42\n",
       "BANNER ENVIRONMENTAL SERVICES INC                 42\n",
       "COMPASS RESTORATION SERVICE SERVICES  LLC         38\n",
       "ENVIRONMENTAL RESPONSE SERVICES  INC              37\n",
       "ECONOMIC ENVIRO TECHS                             35\n",
       "NORTHEAST REMEDIATION                             34\n",
       "NEW ENGLAND SURFACE MAINTENANCE LLP               32\n",
       "MILL CITY ENVIRONMENTAL CORPORATION               32\n",
       "SEN CAM  INC                                      31\n",
       "MORAN ENVIRONMENTAL RECOVERY LLC                  29\n",
       "DUDLEY SERVICES INC                               28\n",
       "BRILLIANT ENVIRONMENTAL SERVICE                   27\n",
       "AMERICAN ENVIRONMENTAL INC                        27\n",
       "THE AULSON COMPANY LLC                            25\n",
       "IMPRESAIR ENVIRONMENTAL CORPORATION               25\n",
       "E&F ENVIRONMENTAL SERVICES LLC                    23\n",
       "ADVANCED BUILDING SYSTEMS INC                     23\n",
       "ADEP GROUP INC                                    22\n",
       "ABSOLUTE ENVIRONMENTAL  INC                       22\n",
       "A-D & T ENTERPRISE INC                            22\n",
       "KARMA ENVIRONMENTAL SVS INC                       21\n",
       "ACCOLADE ENVIRO                                   20\n",
       "INFINITY ABATEMENT SERVICES INC                   20\n",
       "TOP NOTCH ABATEMENT                               20\n",
       "BRISTOL ENVIRONMENTAL  INC                        19\n",
       "AIR QUALITY EXPERTS  INC                          19\n",
       "ASSOCIATED CONTRACTORS WRECKERS INC               18\n",
       "VAREIKA CONSTRUCTION INC                          18\n",
       "Aero Tech Environmental                           17\n",
       "AFFORDABLE ENVIRONMENTAL                          17\n",
       "ENVIROGREEN LLC                                   17\n",
       "ATLANTIC BAY CONTRACTING COMPANY INC              17\n",
       "BARILE ENVIRONMENTAL                              16\n",
       "NEW ENGLAND ASBESTOS ABATEMENT                    16\n",
       "WHALING CITY ENVIRONMENTAL                        16\n",
       "THE AULSON COMPANY INC                            16\n",
       "SCS ENVIRONMENTAL SERVICES  INC                   16\n",
       "ELITE ENVIRONMENTAL SOLUTIONS, LLC                16\n",
       "ENVIRONMENTAL SOLUTIONS  INC                      15\n",
       "COMMERCIAL ENERGY MANAGEMENT  INC                 14\n",
       "ENVIRO STAFFING SOLUTIONS                         14\n",
       "ADVANCED ABATEMENT & INSULATION CO                13\n",
       "SORIANO ENVIRONMENTAL                             13\n",
       "UNITED SERVICE COMPANY                            13\n",
       "BAYSTATE HOME GUARD  INC                          13\n",
       "J.R. VINAGRO CORPORATION                          12\n",
       "A-BEST ABATEMENT  INC                             12\n",
       "PREMIER ABATEMENT&LABOR SERVICES                  11\n",
       "Strategic Environmental Services inc              11\n",
       "ACME ABATEMENT CONTRACTOR INC                     11\n",
       "NG ENVIRONMENTAL CONTRACTORS LLC                  10\n",
       "GLOBAL COMPASS INC                                10\n",
       "ENVIRONMENTAL RESTORATIONS INC                     9\n",
       "CORE CONTRACTING                                   9\n",
       "ENCORE CONTRACTING SERVICES INC                    9\n",
       "ACME CONTRACTORS INC                               9\n",
       "ASSOCIATED BUILDING WRECKERS                       8\n",
       "NORTH SHORE ENVIRONMENTAL SERVICE                  8\n",
       "COSTELLO DISMANTLING CO., INC.                     8\n",
       "SELECT DEMO SERVICES                               8\n",
       "ENVIROVANTAGE INC DBA LEAD SOURCE                  7\n",
       "FRANKLIN ANALYTICAL SERVICES                       7\n",
       "SOUTHERN MIDDLESEX INDUSTRIES INC                  7\n",
       "JDC DEMOLITION COMPANY, INC                        7\n",
       "ULTIMATE ABATEMENT  INC                            7\n",
       "NASDI LLC                                          7\n",
       "AMRICK LLC                                         6\n",
       "SMI DEMOLITION, INC.                               6\n",
       "ENVIRONMENTAL EXPERTS INC                          6\n",
       "R G ENVIRONMENTAL LLC                              6\n",
       "ONE SOURCE ENVIRONMENTAL LLC                       6\n",
       "FIBER CONTROL INC                                  6\n",
       "ALLSTATE ASBESTOS ABATEMENT                        6\n",
       "PETER GREIFER ENTERPRISES  INC                     5\n",
       "JAY-MOR ENTERPRISES INC                            5\n",
       "JR VINAGRO CORPORATION                             5\n",
       "ASBESTOS MAN REMOVAL                               5\n",
       "COMMODORE BUILDERS                                 5\n",
       "HAZARDOUS ABATEMENT SERVICES                       5\n",
       "PRESTIGE ENVIRONMENTAL                             5\n",
       "BIG SHIP BUILDERS                                  5\n",
       "MassGreen Environmental, Inc                       5\n",
       "TRITON LEASING & RENTAL INC                        5\n",
       "ATLANTIC ABATEMENT AND CONSTRUCTION INC            5\n",
       "GREENLEAF ENVIRONMENTAL INC                        4\n",
       "MERRIMACK ENVIRONMENTAL SOLUTION CORP              4\n",
       "LTI ENVIRONMENTAL SERVICE INC                      4\n",
       "LEAD SAFE HOMES LIMITED PARTNERSHIP                4\n",
       "ESS CONTRACTING CORP                               4\n",
       "GEM ENVIRONMENTAL INC                              4\n",
       "CLEAR SERVICES ENVIRONMENTAL CONTRACTORS           4\n",
       "S & R CONTRACTING                                  4\n",
       "MCCONNELL ENTERPRISES INC                          4\n",
       "CUTTING EDGE ENVIRONMENTAL                         4\n",
       "ELAINE CONSTRUCTION COMPANY, INC                   4\n",
       "AA ASTBESTOS ABATEMENT COMPANY INC                 4\n",
       "ATLANTIC CONTRACTING & SPECIALTIES  LLC            4\n",
       "PENIEL ENVIRONMENTAL SOLUTIONS LLC                 3\n",
       "FRANCESCO DEMOLITION, INC.                         3\n",
       "ALL STATE ABATEMENT PROFESSIONALS                  3\n",
       "GOMES REMOVAL SERVICES                             3\n",
       "CHARLES SERVICES                                   3\n",
       "RAMCO SURVEY STAKE CO INC                          3\n",
       "SILVER ENVIRONMENTAL                               3\n",
       "PATRIOTS ENVIRONMENTAL CORP                        3\n",
       "LEE KENNEDY CO., INC.                              3\n",
       "SRS CONTRACTORS  INC                               3\n",
       "N & J CREATIONS, INC                               3\n",
       "FEDERAL ENVIRONMENTAL GROUP INC                    3\n",
       "RAY SERVICES INC                                   3\n",
       "REGIONAL INDUSTRIAL GROUP                          3\n",
       "ALL STATE ENVIRONMENTAL INC                        3\n",
       "YANKEE FIBER CONTROL INC                           3\n",
       "SYSTEMWIDE ENVIRONMNETAL CO LLC                    3\n",
       "TRIDENT ENVIRONMENTAL GROUP LLC                    2\n",
       "CARDINAL ENVIRONMENTAL LLC                         2\n",
       "SELECT DEMO                                        2\n",
       "PATRIOTS ENVIRONMETAL CORP                         2\n",
       "S & R CORPORATION                                  2\n",
       "BESTECH INC  OF CONNECTICUT                        2\n",
       "ERLAND CONSTRUCTION, INC.                          2\n",
       "WINFIELD S  HANCOCK & CO INC                       2\n",
       "FONTAINE BROS., INC                                2\n",
       "Atlantic Coast Dismantling                         2\n",
       "ABATEMENT SOLUTION,LLC                             2\n",
       "COSTELLO DISMANTLING COMPANY, INC.                 2\n",
       "BASCOM ENVIRONMENTAL CORPORATION                   2\n",
       "PIMENTEL CONSTRUCTION CO., INC.                    2\n",
       "BOURGEOIS WRECKING & EXCAVATION INC.               2\n",
       "WESTERN MASS ENVIRONMENTAL LLC                     2\n",
       "NASDI, LLC                                         2\n",
       "CONSIGLI CONSTRUCTION CO.,INC                      2\n",
       "CRUZ ABATEMENT AND CONTRACTING SERVICES LLC        2\n",
       "KIDDER BUILDING & WRECKING, INC.                   2\n",
       "CHAPMAN CONSTRUCTION/DESIGN                        1\n",
       "ROCKWELL ROOFING, INC.                             1\n",
       "TMC SERVICES INC                                   1\n",
       "NG ENVIRONMENTAL CONTRACTORS, LLC                  1\n",
       "AM ENTERPRISES CORP                                1\n",
       "RENOVATION SERVICES  INC                           1\n",
       "BOND BROTHERS                                      1\n",
       "ASSOCIATED BUILDERS, INC                           1\n",
       "ATLANTIC COAST DISMANTLING, LLC                    1\n",
       "ALTERATIONS DEPT                                   1\n",
       "TITAN ROOFING, INC.                                1\n",
       "B-G MECHANICAL SERVICE INC                         1\n",
       "SKINNER SERVICES INC                               1\n",
       "ADVANCE DEMOLITION LLC                             1\n",
       "HOPE TRUCKING & DEMO INC.                          1\n",
       "ESSEX NEWBURY NORTH CONTRACTING CORP               1\n",
       "CHARTER CONTRACTING CO LLC                         1\n",
       "W.S. AIKEN INC.                                    1\n",
       "M. HOLLAND & SONS CONSTRUCTION                     1\n",
       "NORTHERN CONTRACTING CORP.                         1\n",
       "CHAPMAN CONSTRUCTION/ DESIGN                       1\n",
       "AMERICAN ENVIRONMENTAL, INC.                       1\n",
       "FEELEY, MCANESPIE, INC.                            1\n",
       "SP ENVIRONMENTAL INC                               1\n",
       "ROBERT CORMIER INC                                 1\n",
       "SHAWMUT DESIGN AND CONSTRUCTION                    1\n",
       "SMS ENTERPRISES INC                                1\n",
       "AWL SPECIAL PROJECTS                               1\n",
       "RANGER INC                                         1\n",
       "UPPER RIDGE REALTY                                 1\n",
       "BILRAY CORPORATION                                 1\n",
       "TIMBERLINE CONSTRUCTION                            1\n",
       "FUNARI CORP                                        1\n",
       "RM TECHNOLOGIES INC                                1\n",
       "BRIAR CORP DBA MINOT ASBESTOS REMOVAL              1\n",
       "SOUTH COAST IMPROVEMENT                            1\n",
       "HARBOR DEMOLITION                                  1\n",
       "DELLBROOK/J.K. SCANLAN CONSTRUCTION                1\n",
       "TRUCK CRANE SERVICE, INC.                          1\n",
       "PATRIOTS ENVIRONMENTAL                             1\n",
       "FLEMING BROS INC                                   1\n",
       "NEI GENERAL CONTRACTOR                             1\n",
       "RA POWELL CONSTRUCTION CORP                        1\n",
       "UNIFIED CONSTRUCTION GROUP                         1\n",
       "CHARLES SERVICES & EQUIPMENT                       1\n",
       "CHARELS SERVICES                                   1\n",
       "CONSTRUCTION SOURCE MANAGEMENT                     1\n",
       "LE KENNEDY CO., INC.                               1\n",
       "ABSOLUTE ENVIRONMENTAL INC                         1\n",
       "NEWROADS ENVIRONMENTAL SERVICES                    1\n",
       "SHAWMUT DESIGN & CONSTRUCTION                      1\n",
       "SUFFOLK CONSTRUCTION CO., INC.                     1\n",
       "FIBER CONTROL INC.                                 1\n",
       "CONSIGLI CONSTRUCTION CO.INC                       1\n",
       "WESTERN BUILDERS, INC.                             1\n",
       "RPM CONTRACTING INC                                1\n",
       "ERLAND CONSTRUCTION                                1\n",
       "O'CONNOR CONSTRUCTORS, INC.                        1\n",
       "HAMMER CONSTRUCTION                                1\n",
       "MCCONNELL ENTERPRISES, INC.                        1\n",
       "FEDERAL ENVIRONMENTAL GROUP, INC.                  1\n",
       "SRS DEMOLITON                                      1\n",
       "SOS CORPORATION                                    1\n",
       "WISE CONSTRUCTION CORP.                            1\n",
       "K & S BUILDRERS INC                                1\n",
       "AMERICAN CONSTRUCTION TRADES CORPORATION           1\n",
       "GOLDEN GATES SERVICES INC                          1\n",
       "CABOT COMPANY                                      1\n",
       "WISE CONSTRUCTION                                  1\n",
       "COLUMBIA CONSTRUCTION COMPANY                      1\n",
       "BUILD-IT CONSTRUCTION                              1\n",
       "D.C. BEANE AND ASSOCIATES CONSTRUCTION COMPANY     1\n",
       "F A ENVIRONMENTAL RESOURCES LLC                    1\n",
       "RMB ENVIRONMENTAL                                  1\n",
       "ROCKWELL ROOFING INC                               1\n",
       "SMS SERVICES                                       1\n",
       "A & J DEMOLITION SERVICES CORP                     1\n",
       "G LOPES CONSTRUCTION, INC.                         1\n",
       "F & D TRUCK COMPANY, INC.                          1\n",
       "M. HOLLAND & SONS CONSTRUCTION, INC.               1\n",
       "TURNER CONSTRUCTION                                1\n",
       "SOS CORP                                           1\n",
       "NEW HAMPSHIRE DEMOLITION                           1\n",
       "RSG CONTRACTING CORP                               1\n",
       "D.F. PRAY GENERAL CONTRACTORS                      1\n",
       "JDC DEMOLITION COMPANY, INC.                       1\n",
       "FLEMING BROS INC.                                  1\n",
       "Name: CON, dtype: int64"
      ]
     },
     "execution_count": 15,
     "metadata": {},
     "output_type": "execute_result"
    }
   ],
   "source": [
    "#count unique CON\n",
    "print len(open_today['CON'].value_counts())\n",
    "open_today['CON'].value_counts()"
   ]
  },
  {
   "cell_type": "code",
   "execution_count": 16,
   "metadata": {
    "collapsed": false
   },
   "outputs": [],
   "source": [
    "def upper_no_punct(df,col_name):\n",
    "    for field in df[col_name]:\n",
    "        new_field = field.translate(None, string.punctuation).upper()\n",
    "        df[col_name] = df[col_name].replace(field,new_field)\n",
    "\n",
    "upper_no_punct(open_today,'CON')\n",
    "#370-->341 aq06 only\n",
    "#502-->463 aq06 + anf"
   ]
  },
  {
   "cell_type": "code",
   "execution_count": 17,
   "metadata": {
    "collapsed": true
   },
   "outputs": [],
   "source": [
    "#Replaces 'pattern' in 'string' with 'sub' if 'pattern' starts 'string'\n",
    "def lreplace(pattern, sub, string):\n",
    "    return re.sub('^%s' % pattern, sub, string)\n",
    "\n",
    "#Replaces 'pattern' in 'string' with 'sub' if 'pattern' ends 'string'\n",
    "def rreplace(pattern, sub, string):\n",
    "    return re.sub('%s$' % pattern, sub, string)"
   ]
  },
  {
   "cell_type": "code",
   "execution_count": 18,
   "metadata": {
    "collapsed": false
   },
   "outputs": [],
   "source": [
    "#standardize abbreviations and misspellings\n",
    "def remove_abbrev(df, col_name, old_string, new_string):\n",
    "    for field in df[col_name]:\n",
    "        new_field = field.replace(old_string,new_string)\n",
    "        df[col_name] = df[col_name].replace(field,new_field)\n",
    "\n",
    "#remove abbreviations that appear at the end of the string only (ex: CO at the end, but not CO in CONSTRUCTION)\n",
    "def remove_ending(df, col_name, ending):\n",
    "    for field in df.loc[df[col_name].str.endswith(ending),col_name]:\n",
    "        new_field = rreplace(ending,'',field)\n",
    "        new_field = new_field.rstrip()\n",
    "        df[col_name] = df[col_name].replace(field,new_field)"
   ]
  },
  {
   "cell_type": "code",
   "execution_count": 19,
   "metadata": {
    "collapsed": true
   },
   "outputs": [],
   "source": [
    "#slower?\n",
    "abbrevs = {\n",
    "    'AND':('ADN',),\n",
    "    'BRO':('BROS',\n",
    "           'BROTHER',\n",
    "           'BROTHERS'),\n",
    "    'BUILDING':('BUIDLING',\n",
    "                'BUILIDNG'),\n",
    "    'CAULFIELD':('CAULLFIELD',),\n",
    "    'CONSTRUCTION':('CONSTRCTION',\n",
    "                    'CONSTRCUTION',\n",
    "                    'CONSTRUCION',\n",
    "                    'CONSTRUCTON',\n",
    "                    'CONSTRUCTUON',\n",
    "                    'CONSTRUTION',\n",
    "                    'CONTRUCTION',),\n",
    "    'CORP':('CORPORATION',\n",
    "            'CORPORATIO',\n",
    "            'CORPOTATION',),\n",
    "    'DESIGN':('DEISGN',),\n",
    "    'DEMO':('DEMOLIITION',\n",
    "            'DEMOLITION',\n",
    "            'DEMOLTION'),\n",
    "    'ENVIRONMENTAL':('ENVIRONMENATL',\n",
    "                    'ENVIRONMETAL'),\n",
    "    'INC':('INCORPORATED',),\n",
    "    'JK SCANLAN':('JKS',),\n",
    "    'SHAWMUT':('SAHWMUT',),\n",
    "    'STRUCTURETONE':('STRUCTURE TONE',\n",
    "                    'STURUCTURE TONE',),\n",
    "    'SON':('SONS',),\n",
    "    'DISMANTLING':('DISMANTLIING',),\n",
    "}\n",
    "\n",
    "spacing = {\n",
    "    ' ':('  ',),\n",
    "}\n",
    "\n",
    "endings = [\n",
    "    'LLC',\n",
    "    'COINC',\n",
    "    'INC',\n",
    "    'COMPANY',\n",
    "    'CORP',\n",
    "    'LLP',\n",
    "    'DESIGN',\n",
    "    'CO',\n",
    "    'CONC',\n",
    "    'MANAGERS',\n",
    "    'GROUP',\n",
    "    'SERVICES',\n",
    "    'SERVICE',\n",
    "    'AND',\n",
    "]\n",
    "\n",
    "for new_string, old_strings in abbrevs.iteritems():\n",
    "    for old_string in old_strings: \n",
    "        remove_abbrev(open_today, 'CON', old_string, new_string)\n",
    "\n",
    "for ending in endings:\n",
    "        remove_ending(open_today, 'CON', ending)\n",
    "        \n",
    "for new_string, old_strings in spacing.iteritems():\n",
    "    for old_string in old_strings: \n",
    "        remove_abbrev(open_today, 'CON', old_string, new_string)\n",
    "#341-->273 aq06 only\n",
    "#463--382 aq06 + anf"
   ]
  },
  {
   "cell_type": "code",
   "execution_count": 20,
   "metadata": {
    "collapsed": false
   },
   "outputs": [
    {
     "name": "stdout",
     "output_type": "stream",
     "text": [
      "213\n"
     ]
    },
    {
     "data": {
      "text/plain": [
       "ABIDE                                       99\n",
       "FJC ENTERPRISES                             99\n",
       "DECTAM                                      97\n",
       "AIR SAFE                                    70\n",
       "NORTHSTAR CONTRACTING                       63\n",
       "NON LICENSED REMOVAL                        58\n",
       "NEW ROADS ENVIRONMENTAL                     54\n",
       "BAYSTATE CONTRACTING                        52\n",
       "S S ABATEMENT                               45\n",
       "GREEN ENVIRONMENTAL                         45\n",
       "WALSH ENVIRONMENTAL                         44\n",
       "CLEAN AIR ENVIRONMENTAL                     43\n",
       "NATIONAL ABATEMENT                          43\n",
       "ASBESTOS FREE                               42\n",
       "BANNER ENVIRONMENTAL                        42\n",
       "A E ENVIRONMENTAL                           42\n",
       "ENVI LABOR SERVIVES                         42\n",
       "THE AULSON                                  41\n",
       "COMPASS RESTORATION                         38\n",
       "ENVIRONMENTAL RESPONSE                      37\n",
       "ECONOMIC ENVIRO TECHS                       35\n",
       "NORTHEAST REMEDIATION                       34\n",
       "MILL CITY ENVIRONMENTAL                     32\n",
       "NEW ENGLAND SURFACE MAINTENANCE             32\n",
       "SEN CAM                                     31\n",
       "MORAN ENVIRONMENTAL RECOVERY                29\n",
       "DUDLEY                                      28\n",
       "AMERICAN ENVIRONMENTAL                      28\n",
       "BRILLIANT ENVIRONMENTAL                     27\n",
       "IMPRESAIR ENVIRONMENTAL                     25\n",
       "ADVANCED BUILDING SYSTEMS                   23\n",
       "EF ENVIRONMENTAL                            23\n",
       "ABSOLUTE ENVIRONMENTAL                      23\n",
       "ADEP                                        22\n",
       "AD T ENTERPRISE                             22\n",
       "KARMA ENVIRONMENTAL SVS                     21\n",
       "INFINITY ABATEMENT                          20\n",
       "ACCOLADE ENVIRO                             20\n",
       "TOP NOTCH ABATEMENT                         20\n",
       "BRISTOL ENVIRONMENTAL                       19\n",
       "AIR QUALITY EXPERTS                         19\n",
       "ASSOCIATED CONTRACTORS WRECKERS             18\n",
       "VAREIKA CONSTRUCTION                        18\n",
       "ATLANTIC BAY CONTRACTING                    17\n",
       "JR VINAGRO                                  17\n",
       "ENVIROGREEN                                 17\n",
       "AERO TECH ENVIRONMENTAL                     17\n",
       "AFFORDABLE ENVIRONMENTAL                    17\n",
       "NEW ENGLAND ASBESTOS ABATEMENT              16\n",
       "ELITE ENVIRONMENTAL SOLUTIONS               16\n",
       "WHALING CITY ENVIRONMENTAL                  16\n",
       "BARILE ENVIRONMENTAL                        16\n",
       "SCS ENVIRONMENTAL                           16\n",
       "ENVIRONMENTAL SOLUTIONS                     15\n",
       "COMMERCIAL ENERGY MANAGEMENT                14\n",
       "ENVIRO STAFFING SOLUTIONS                   14\n",
       "SORIANO ENVIRONMENTAL                       13\n",
       "ADVANCED ABATEMENT INSULATION               13\n",
       "UNITED                                      13\n",
       "BAYSTATE HOME GUARD                         13\n",
       "ABEST ABATEMENT                             12\n",
       "STRATEGIC ENVIRONMENTAL                     11\n",
       "ACME ABATEMENT CONTRACTOR                   11\n",
       "PREMIER ABATEMENTLABOR                      11\n",
       "NG ENVIRONMENTAL CONTRACTORS                11\n",
       "COSTELLO DISMANTLING                        10\n",
       "GLOBAL COMPASS                              10\n",
       "SELECT DEMO                                 10\n",
       "ENVIRONMENTAL RESTORATIONS                   9\n",
       "ENCORE CONTRACTING                           9\n",
       "NASDI                                        9\n",
       "ACME CONTRACTORS                             9\n",
       "CORE CONTRACTING                             9\n",
       "NORTH SHORE ENVIRONMENTAL                    8\n",
       "ASSOCIATED BUILDING WRECKERS                 8\n",
       "JDC DEMO                                     8\n",
       "FIBER CONTROL                                7\n",
       "SOUTHERN MIDDLESEX INDUSTRIES                7\n",
       "FRANKLIN ANALYTICAL                          7\n",
       "ENVIROVANTAGE INC DBA LEAD SOURCE            7\n",
       "ULTIMATE ABATEMENT                           7\n",
       "PATRIOTS ENVIRONMENTAL                       6\n",
       "ONE SOURCE ENVIRONMENTAL                     6\n",
       "SMI DEMO                                     6\n",
       "R G ENVIRONMENTAL                            6\n",
       "AMRICK                                       6\n",
       "ENVIRONMENTAL EXPERTS                        6\n",
       "ALLSTATE ASBESTOS ABATEMENT                  6\n",
       "COMMODORE BUILDERS                           5\n",
       "ATLANTIC ABATEMENT AND CONSTRUCTION          5\n",
       "TRITON LEASING RENTAL                        5\n",
       "PRESTIGE ENVIRONMENTAL                       5\n",
       "HAZARDOUS ABATEMENT                          5\n",
       "PETER GREIFER ENTERPRISES                    5\n",
       "JAYMOR ENTERPRISES                           5\n",
       "ASBESTOS MAN REMOVAL                         5\n",
       "BIG SHIP BUILDERS                            5\n",
       "MCCONNELL ENTERPRISES                        5\n",
       "MASSGREEN ENVIRONMENTAL                      5\n",
       "CLEAR SERVICES ENVIRONMENTAL CONTRACTORS     4\n",
       "FEDERAL ENVIRONMENTAL                        4\n",
       "GEM ENVIRONMENTAL                            4\n",
       "ATLANTIC CONTRACTING SPECIALTIES             4\n",
       "LTI ENVIRONMENTAL                            4\n",
       "MERRIMACK ENVIRONMENTAL SOLUTION             4\n",
       "AA ASTBESTOS ABATEMENT                       4\n",
       "LEAD SAFE HOMES LIMITED PARTNERSHIP          4\n",
       "GREENLEAF ENVIRONMENTAL                      4\n",
       "S R CONTRACTING                              4\n",
       "ESS CONTRACTING                              4\n",
       "ELAINE CONSTRUCTION                          4\n",
       "CUTTING EDGE ENVIRONMENTAL                   4\n",
       "ERLAND CONSTRUCTION                          3\n",
       "GOMES REMOVAL                                3\n",
       "YANKEE FIBER CONTROL                         3\n",
       "ALL STATE ABATEMENT PROFESSIONALS            3\n",
       "N J CREATIONS                                3\n",
       "ALL STATE ENVIRONMENTAL                      3\n",
       "FRANCESCO DEMO                               3\n",
       "RAMCO SURVEY STAKE                           3\n",
       "PENIEL ENVIRONMENTAL SOLUTIONS               3\n",
       "SILVER ENVIRONMENTAL                         3\n",
       "CHARLES                                      3\n",
       "ATLANTIC COAST DISMANTLING                   3\n",
       "CONSIGLI CONSTRUCTION                        3\n",
       "RAY                                          3\n",
       "SRS CONTRACTORS                              3\n",
       "SYSTEMWIDE ENVIRONMNETAL                     3\n",
       "REGIONAL INDUSTRIAL                          3\n",
       "LEE KENNEDY                                  3\n",
       "WESTERN MASS ENVIRONMENTAL                   2\n",
       "PIMENTEL CONSTRUCTION                        2\n",
       "WINFIELD S HANCOCK                           2\n",
       "ROCKWELL ROOFING                             2\n",
       "SOS                                          2\n",
       "CARDINAL ENVIRONMENTAL                       2\n",
       "S R                                          2\n",
       "KIDDER BUILDING WRECKING                     2\n",
       "BASCOM ENVIRONMENTAL                         2\n",
       "FLEMING BRO                                  2\n",
       "CRUZ ABATEMENT AND CONTRACTING               2\n",
       "WISE CONSTRUCTION                            2\n",
       "BOURGEOIS WRECKING EXCAVATION                2\n",
       "CHAPMAN CONSTRUCTION                         2\n",
       "BESTECH INC OF CONNECTICUT                   2\n",
       "TRIDENT ENVIRONMENTAL                        2\n",
       "M HOLLAND SON CONSTRUCTION                   2\n",
       "ABATEMENT SOLUTION                           2\n",
       "FONTAINE BRO                                 2\n",
       "DF PRAY GENERAL CONTRACTORS                  1\n",
       "RANGER                                       1\n",
       "FEELEY MCANESPIE                             1\n",
       "RSG CONTRACTING                              1\n",
       "SKINNER                                      1\n",
       "SRS DEMOLITON                                1\n",
       "AM ENTERPRISES                               1\n",
       "CHARLES SERVICES EQUIPMENT                   1\n",
       "GOLDEN GATES                                 1\n",
       "CHARTER CONTRACTING                          1\n",
       "ALTERATIONS DEPT                             1\n",
       "NEWROADS ENVIRONMENTAL                       1\n",
       "WS AIKEN                                     1\n",
       "RA POWELL CONSTRUCTION                       1\n",
       "DC BEANE AND ASSOCIATES CONSTRUCTION         1\n",
       "UNIFIED CONSTRUCTION                         1\n",
       "SHAWMUT DESIGN CONSTRUCTION                  1\n",
       "RPM CONTRACTING                              1\n",
       "TIMBERLINE CONSTRUCTION                      1\n",
       "SHAWMUT DESIGN AND CONSTRUCTION              1\n",
       "ADVANCE DEMO                                 1\n",
       "SMS                                          1\n",
       "TRUCK CRANE                                  1\n",
       "CABOT                                        1\n",
       "TMC                                          1\n",
       "CONSTRUCTION SOURCE MANAGEMENT               1\n",
       "SOUTH COAST IMPROVEMENT                      1\n",
       "CHARELS                                      1\n",
       "BRIAR CORP DBA MINOT ASBESTOS REMOVAL        1\n",
       "K S BUILDRERS                                1\n",
       "AWL SPECIAL PROJECTS                         1\n",
       "DELLBROOKJK SCANLAN CONSTRUCTION             1\n",
       "BG MECHANICAL                                1\n",
       "OCONNOR CONSTRUCTORS                         1\n",
       "F A ENVIRONMENTAL RESOURCES                  1\n",
       "BUILDIT CONSTRUCTION                         1\n",
       "BOND BROS                                    1\n",
       "UPPER RIDGE REALTY                           1\n",
       "NEW HAMPSHIRE DEMO                           1\n",
       "TITAN ROOFING                                1\n",
       "HAMMER CONSTRUCTION                          1\n",
       "ASSOCIATED BUILDERS                          1\n",
       "NEI GENERAL CONTRACTOR                       1\n",
       "TURNER CONSTRUCTION                          1\n",
       "F D TRUCK                                    1\n",
       "A J DEMO                                     1\n",
       "SUFFOLK CONSTRUCTION                         1\n",
       "RM TECHNOLOGIES                              1\n",
       "RENOVATION                                   1\n",
       "SMS ENTERPRISES                              1\n",
       "BILRAY                                       1\n",
       "ESSEX NEWBURY NORTH CONTRACTING              1\n",
       "WESTERN BUILDERS                             1\n",
       "LE KENNEDY                                   1\n",
       "ROBERT CORMIER                               1\n",
       "FUNARI                                       1\n",
       "SP ENVIRONMENTAL                             1\n",
       "G LOPES CONSTRUCTION                         1\n",
       "RMB ENVIRONMENTAL                            1\n",
       "HOPE TRUCKING DEMO                           1\n",
       "COLUMBIA CONSTRUCTION                        1\n",
       "HARBOR DEMO                                  1\n",
       "AMERICAN CONSTRUCTION TRADES                 1\n",
       "NORTHERN CONTRACTING                         1\n",
       "Name: CON, dtype: int64"
      ]
     },
     "execution_count": 20,
     "metadata": {},
     "output_type": "execute_result"
    }
   ],
   "source": [
    "#count unique CON\n",
    "print len(open_today['CON'].value_counts())\n",
    "open_today['CON'].value_counts()"
   ]
  },
  {
   "cell_type": "markdown",
   "metadata": {
    "collapsed": true
   },
   "source": [
    "#faster?\n",
    "abbrevs = {\n",
    "    'ADN':'AND',\n",
    "    'BROS':'BRO',\n",
    "    'BROTHER':'BRO',\n",
    "    'BROTHERS':'BRO',\n",
    "    'BUIDLING':'BUILDING',\n",
    "    'BUILIDNG':'BUILDING',\n",
    "    'CAULLFIELD':'CAULFIELD',\n",
    "    'CONSTRCTION':'CONSTRUCTION',\n",
    "    'CONSTRCUTION':'CONSTRUCTION',\n",
    "    'CONSTRUCION':'CONSTRUCTION',\n",
    "    'CONSTRUCTON':'CONSTRUCTION',\n",
    "    'CONSTRUCTUON':'CONSTRUCTION',\n",
    "    'CONSTRUTION':'CONSTRUCTION',\n",
    "    'CONTRUCTION':'CONSTRUCTION',\n",
    "    'CORPORATION':'CORP',\n",
    "    'CORPORATIO':'CORP',\n",
    "    'CORPOTATION':'CORP',\n",
    "    'DEISGN':'DESIGN',\n",
    "    'DEMOLIITION':'DEMO',\n",
    "    'DEMOLITION':'DEMO',\n",
    "    'DEMOLTION':'DEMO',\n",
    "    'DISMANTLIING':'DISMANTLING',\n",
    "    'ENVIRONMENATL':'ENVIRONMENTAL',\n",
    "    'ENVIRONMETAL':'ENVIRONMENTAL',\n",
    "    'INCORPORATED':'INC',\n",
    "    'JKS':'JK SCANLAN',\n",
    "    'SAHWMUT':'SHAWMUT',\n",
    "    'STRUCTURE TONE':'STRUCTURETONE',\n",
    "    'STURUCTURE TONE':'STRUCTURETONE',\n",
    "    'SONS':'SON',    \n",
    "}\n",
    "\n",
    "spacing = {\n",
    "    '  ':' ',\n",
    "}\n",
    "\n",
    "endings = [\n",
    "    'LLC',\n",
    "    'COINC',\n",
    "    'INC',\n",
    "    'COMPANY',\n",
    "    'CORP',\n",
    "    'LLP',\n",
    "    'DESIGN',\n",
    "    'CO',\n",
    "    'CONC',\n",
    "    'MANAGERS',\n",
    "    'GROUP',\n",
    "    'SERVICES',\n",
    "    'SERVICE',\n",
    "    'AND',\n",
    "]\n",
    "\n",
    "for old_string, new_string in abbrevs.iteritems():\n",
    "    remove_abbrev(open_today, 'CON', old_string, new_string)\n",
    "\n",
    "for ending in endings:\n",
    "    remove_ending(open_today, 'CON', ending)\n",
    "        \n",
    "for old_string, new_strings in spacing.iteritems():\n",
    "    remove_abbrev(open_today, 'CON', old_string, new_string)\n",
    "#341-->273 aq06 only\n",
    "#463--382 aq06 + anf"
   ]
  },
  {
   "cell_type": "markdown",
   "metadata": {
    "collapsed": false
   },
   "source": [
    "#standardize abbreviations and misspellings using using re.sub\n",
    "def re_remove_abbrev(df, col_name, old_string, new_string):\n",
    "    for field in df[col_name]:\n",
    "        new_field = re.sub(old_string, new_string, old_string)\n",
    "        df[col_name] = df[col_name].replace(field,new_field)\n",
    "\n",
    "#fastest?\n",
    "abbrevs = {\n",
    "    'ADN':'AND',\n",
    "    'BROS':'BRO',\n",
    "    'BROTHER':'BRO',\n",
    "    'BROTHERS':'BRO',\n",
    "    'BUIDLING':'BUILDING',\n",
    "    'BUILIDNG':'BUILDING',\n",
    "    'CAULLFIELD':'CAULFIELD',\n",
    "    'CONSTRCTION':'CONSTRUCTION',\n",
    "    'CONSTRCUTION':'CONSTRUCTION',\n",
    "    'CONSTRUCION':'CONSTRUCTION',\n",
    "    'CONSTRUCTON':'CONSTRUCTION',\n",
    "    'CONSTRUCTUON':'CONSTRUCTION',\n",
    "    'CONSTRUTION':'CONSTRUCTION',\n",
    "    'CONTRUCTION':'CONSTRUCTION',\n",
    "    'CORPORATION':'CORP',\n",
    "    'CORPORATIO':'CORP',\n",
    "    'CORPOTATION':'CORP',\n",
    "    'DEISGN':'DESIGN',\n",
    "    'DEMOLIITION':'DEMO',\n",
    "    'DEMOLITION':'DEMO',\n",
    "    'DEMOLTION':'DEMO',\n",
    "    'DISMANTLIING':'DISMANTLING',\n",
    "    'ENVIRONMENATL':'ENVIRONMENTAL',\n",
    "    'ENVIRONMETAL':'ENVIRONMENTAL',\n",
    "    'INCORPORATED':'INC',\n",
    "    'JKS':'JK SCANLAN',\n",
    "    'SAHWMUT':'SHAWMUT',\n",
    "    'STRUCTURE TONE':'STRUCTURETONE',\n",
    "    'STURUCTURE TONE':'STRUCTURETONE',\n",
    "    'SONS':'SON',    \n",
    "}\n",
    "\n",
    "spacing = {\n",
    "    '  ':' ',\n",
    "}\n",
    "\n",
    "endings = [\n",
    "    'LLC',\n",
    "    'COINC',\n",
    "    'INC',\n",
    "    'COMPANY',\n",
    "    'CORP',\n",
    "    'LLP',\n",
    "    'DESIGN',\n",
    "    'CO',\n",
    "    'CONC',\n",
    "    'MANAGERS',\n",
    "    'GROUP',\n",
    "    'SERVICES',\n",
    "    'SERVICE',\n",
    "    'AND',\n",
    "]\n",
    "\n",
    "for old_string, new_string in abbrevs.iteritems():\n",
    "    re_remove_abbrev(open_today, 'CON', old_string, new_string)\n",
    "\n",
    "#for ending in endings:\n",
    "#    remove_ending(open_today, 'CON', ending)\n",
    "        \n",
    "#for old_string, new_strings in spacing.iteritems():\n",
    "#    remove_abbrev(open_today, 'CON', old_string, new_string)\n",
    "#341-->273 aq06 only\n",
    "#463--382 aq06 + anf"
   ]
  },
  {
   "cell_type": "code",
   "execution_count": 21,
   "metadata": {
    "collapsed": true
   },
   "outputs": [],
   "source": [
    "#write data to csv\n",
    "open_today.to_csv('where.csv', columns=('ADDRESS','FORMTYPE','STICKER.','CON','STARTDATE','ENDDATE','EXPORTDATE'), header=False, index=False)"
   ]
  },
  {
   "cell_type": "code",
   "execution_count": 22,
   "metadata": {
    "collapsed": false
   },
   "outputs": [
    {
     "name": "stdout",
     "output_type": "stream",
     "text": [
      "anf001    7\n",
      "aq06      2\n",
      "Name: FORMTYPE, dtype: int64\n"
     ]
    }
   ],
   "source": [
    "con = open_today[open_today['CON'].str.contains('NASDI')]\n",
    "print con['FORMTYPE'].value_counts()"
   ]
  },
  {
   "cell_type": "code",
   "execution_count": null,
   "metadata": {
    "collapsed": true
   },
   "outputs": [],
   "source": []
  }
 ],
 "metadata": {
  "anaconda-cloud": {},
  "kernelspec": {
   "display_name": "Python [tutorial]",
   "language": "python",
   "name": "Python [tutorial]"
  },
  "language_info": {
   "codemirror_mode": {
    "name": "ipython",
    "version": 2
   },
   "file_extension": ".py",
   "mimetype": "text/x-python",
   "name": "python",
   "nbconvert_exporter": "python",
   "pygments_lexer": "ipython2",
   "version": "2.7.11"
  }
 },
 "nbformat": 4,
 "nbformat_minor": 0
}
