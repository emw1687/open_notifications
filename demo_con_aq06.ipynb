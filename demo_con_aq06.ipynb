{
 "cells": [
  {
   "cell_type": "markdown",
   "metadata": {},
   "source": [
    "Import libraries"
   ]
  },
  {
   "cell_type": "code",
   "execution_count": 1,
   "metadata": {
    "collapsed": false,
    "scrolled": false
   },
   "outputs": [],
   "source": [
    "#data loading and manipulation\n",
    "import pandas as pd\n",
    "import numpy as np\n",
    "\n",
    "#for working with file paths\n",
    "from os import path\n",
    "\n",
    "#regular expressions\n",
    "import re\n",
    "\n",
    "#punctuation\n",
    "import string\n",
    "\n",
    "#spelling\n",
    "#import enchant"
   ]
  },
  {
   "cell_type": "code",
   "execution_count": 2,
   "metadata": {
    "collapsed": true
   },
   "outputs": [],
   "source": [
    "pd.set_option('display.max_rows', 1000)"
   ]
  },
  {
   "cell_type": "markdown",
   "metadata": {},
   "source": [
    "Load exempt data\n",
    "* AQ06_where_data.csv is AQ06s submitted on or after 12/01/2016 and before 12/19/2016\n",
    "* ANF_where_data.csv is ANFs submitted on or after 12/01/2016 and before 12/19/2016"
   ]
  },
  {
   "cell_type": "code",
   "execution_count": 3,
   "metadata": {
    "collapsed": false
   },
   "outputs": [],
   "source": [
    "aq06_path = path.join('data', 'AQ06_where_data.csv')\n",
    "anf_path = path.join('data', 'ANF_where_data.csv')\n",
    "\n",
    "aq06 = pd.read_csv(aq06_path)\n",
    "anf = pd.read_csv(anf_path)"
   ]
  },
  {
   "cell_type": "code",
   "execution_count": 4,
   "metadata": {
    "collapsed": false
   },
   "outputs": [
    {
     "name": "stdout",
     "output_type": "stream",
     "text": [
      "(125, 7)\n"
     ]
    },
    {
     "data": {
      "text/html": [
       "<div>\n",
       "<table border=\"1\" class=\"dataframe\">\n",
       "  <thead>\n",
       "    <tr style=\"text-align: right;\">\n",
       "      <th></th>\n",
       "      <th>ADDRESS</th>\n",
       "      <th>FORMTYPE</th>\n",
       "      <th>STICKER.</th>\n",
       "      <th>CONTRACTOR</th>\n",
       "      <th>STARTDATE</th>\n",
       "      <th>ENDDATE</th>\n",
       "      <th>EXPORTDATE</th>\n",
       "    </tr>\n",
       "  </thead>\n",
       "  <tbody>\n",
       "    <tr>\n",
       "      <th>0</th>\n",
       "      <td>ONE FEDERAL STREET, 25TH FLOOR, BOSTON, MA</td>\n",
       "      <td>AQ-06</td>\n",
       "      <td>100232092</td>\n",
       "      <td>LAKE CONTRACTING INC</td>\n",
       "      <td>11/16/2015 0:00:00</td>\n",
       "      <td>2/28/2016 0:00:00</td>\n",
       "      <td>12/19/2016 10:09:11</td>\n",
       "    </tr>\n",
       "    <tr>\n",
       "      <th>1</th>\n",
       "      <td>500 COMMONWEALTH AVENUE, BOSTON, MA</td>\n",
       "      <td>AQ-06</td>\n",
       "      <td>100235507R1</td>\n",
       "      <td>J. L. DUNN &amp; COMPANY</td>\n",
       "      <td>1/21/2016 0:00:00</td>\n",
       "      <td>7/31/2017 0:00:00</td>\n",
       "      <td>12/19/2016 10:09:11</td>\n",
       "    </tr>\n",
       "    <tr>\n",
       "      <th>2</th>\n",
       "      <td>295 BURNETT ROAD, CHICOPEE, MA</td>\n",
       "      <td>AQ-06</td>\n",
       "      <td>100248580R1</td>\n",
       "      <td>AMERICAN ENVIRONMENTAL, INC.</td>\n",
       "      <td>8/22/2016 0:00:00</td>\n",
       "      <td>5/30/2017 0:00:00</td>\n",
       "      <td>12/19/2016 10:09:11</td>\n",
       "    </tr>\n",
       "    <tr>\n",
       "      <th>3</th>\n",
       "      <td>80 BROADWAY, EVERETT, MA</td>\n",
       "      <td>AQ-06</td>\n",
       "      <td>100249698R3</td>\n",
       "      <td>J.R. VINAGRO CORPORATION</td>\n",
       "      <td>1/9/2017 0:00:00</td>\n",
       "      <td>2/9/2017 0:00:00</td>\n",
       "      <td>12/19/2016 10:09:11</td>\n",
       "    </tr>\n",
       "    <tr>\n",
       "      <th>4</th>\n",
       "      <td>0 MASSPIKE ROAD, BOSTON, MA</td>\n",
       "      <td>AQ-06</td>\n",
       "      <td>100251364R3</td>\n",
       "      <td>J.R. VINAGRO CORPORATION</td>\n",
       "      <td>10/28/2016 0:00:00</td>\n",
       "      <td>1/31/2017 0:00:00</td>\n",
       "      <td>12/19/2016 10:09:11</td>\n",
       "    </tr>\n",
       "  </tbody>\n",
       "</table>\n",
       "</div>"
      ],
      "text/plain": [
       "                                      ADDRESS FORMTYPE     STICKER.  \\\n",
       "0  ONE FEDERAL STREET, 25TH FLOOR, BOSTON, MA    AQ-06    100232092   \n",
       "1         500 COMMONWEALTH AVENUE, BOSTON, MA    AQ-06  100235507R1   \n",
       "2              295 BURNETT ROAD, CHICOPEE, MA    AQ-06  100248580R1   \n",
       "3                    80 BROADWAY, EVERETT, MA    AQ-06  100249698R3   \n",
       "4                 0 MASSPIKE ROAD, BOSTON, MA    AQ-06  100251364R3   \n",
       "\n",
       "                     CONTRACTOR           STARTDATE            ENDDATE  \\\n",
       "0          LAKE CONTRACTING INC  11/16/2015 0:00:00  2/28/2016 0:00:00   \n",
       "1          J. L. DUNN & COMPANY   1/21/2016 0:00:00  7/31/2017 0:00:00   \n",
       "2  AMERICAN ENVIRONMENTAL, INC.   8/22/2016 0:00:00  5/30/2017 0:00:00   \n",
       "3      J.R. VINAGRO CORPORATION    1/9/2017 0:00:00   2/9/2017 0:00:00   \n",
       "4      J.R. VINAGRO CORPORATION  10/28/2016 0:00:00  1/31/2017 0:00:00   \n",
       "\n",
       "            EXPORTDATE  \n",
       "0  12/19/2016 10:09:11  \n",
       "1  12/19/2016 10:09:11  \n",
       "2  12/19/2016 10:09:11  \n",
       "3  12/19/2016 10:09:11  \n",
       "4  12/19/2016 10:09:11  "
      ]
     },
     "execution_count": 4,
     "metadata": {},
     "output_type": "execute_result"
    }
   ],
   "source": [
    "print aq06.shape\n",
    "aq06.head()"
   ]
  },
  {
   "cell_type": "code",
   "execution_count": 5,
   "metadata": {
    "collapsed": false
   },
   "outputs": [
    {
     "name": "stdout",
     "output_type": "stream",
     "text": [
      "(1165, 7)\n"
     ]
    },
    {
     "data": {
      "text/html": [
       "<div>\n",
       "<table border=\"1\" class=\"dataframe\">\n",
       "  <thead>\n",
       "    <tr style=\"text-align: right;\">\n",
       "      <th></th>\n",
       "      <th>ADDRESS</th>\n",
       "      <th>FORMTYPE</th>\n",
       "      <th>STICKER.</th>\n",
       "      <th>CONTRACTOR</th>\n",
       "      <th>STARTDATE</th>\n",
       "      <th>ENDDATE</th>\n",
       "      <th>EXPORTDATE</th>\n",
       "    </tr>\n",
       "  </thead>\n",
       "  <tbody>\n",
       "    <tr>\n",
       "      <th>0</th>\n",
       "      <td>122 WAVERLY AVE, WATERTOWN, MA</td>\n",
       "      <td>ANF-001</td>\n",
       "      <td>100256143</td>\n",
       "      <td>NORTH SHORE ENVIRONMENTAL SERVICE</td>\n",
       "      <td>12/19/2016 0:00:00</td>\n",
       "      <td>12/19/2016 0:00:00</td>\n",
       "      <td>12/19/2016 10:08:48</td>\n",
       "    </tr>\n",
       "    <tr>\n",
       "      <th>1</th>\n",
       "      <td>914 MAIN STREET, WORCESTER, MA</td>\n",
       "      <td>ANF-001</td>\n",
       "      <td>100256144</td>\n",
       "      <td>MORAN ENVIRONMENTAL RECOVERY LLC</td>\n",
       "      <td>12/7/2016 0:00:00</td>\n",
       "      <td>12/7/2016 0:00:00</td>\n",
       "      <td>12/19/2016 10:08:48</td>\n",
       "    </tr>\n",
       "    <tr>\n",
       "      <th>2</th>\n",
       "      <td>1587 LONGMEADOW STREET, LONGMEADOW, MA</td>\n",
       "      <td>ANF-001</td>\n",
       "      <td>100255402R1</td>\n",
       "      <td>BAYSTATE CONTRACTING SERVICES  INC</td>\n",
       "      <td>12/8/2016 0:00:00</td>\n",
       "      <td>12/8/2016 0:00:00</td>\n",
       "      <td>12/19/2016 10:08:48</td>\n",
       "    </tr>\n",
       "    <tr>\n",
       "      <th>3</th>\n",
       "      <td>49 CHURCH STREET, NORTHBRIDGE, MA</td>\n",
       "      <td>ANF-001</td>\n",
       "      <td>100254916R2</td>\n",
       "      <td>NORTHEAST REMEDIATION</td>\n",
       "      <td>12/3/2016 0:00:00</td>\n",
       "      <td>12/7/2016 0:00:00</td>\n",
       "      <td>12/19/2016 10:08:48</td>\n",
       "    </tr>\n",
       "    <tr>\n",
       "      <th>4</th>\n",
       "      <td>1000 WESTERN AVENUE, LYNN, MA</td>\n",
       "      <td>ANF-001</td>\n",
       "      <td>100256182</td>\n",
       "      <td>DEC-TAM CORPORATION</td>\n",
       "      <td>12/10/2016 0:00:00</td>\n",
       "      <td>12/10/2016 0:00:00</td>\n",
       "      <td>12/19/2016 10:08:48</td>\n",
       "    </tr>\n",
       "  </tbody>\n",
       "</table>\n",
       "</div>"
      ],
      "text/plain": [
       "                                  ADDRESS FORMTYPE     STICKER.  \\\n",
       "0          122 WAVERLY AVE, WATERTOWN, MA  ANF-001    100256143   \n",
       "1          914 MAIN STREET, WORCESTER, MA  ANF-001    100256144   \n",
       "2  1587 LONGMEADOW STREET, LONGMEADOW, MA  ANF-001  100255402R1   \n",
       "3       49 CHURCH STREET, NORTHBRIDGE, MA  ANF-001  100254916R2   \n",
       "4           1000 WESTERN AVENUE, LYNN, MA  ANF-001    100256182   \n",
       "\n",
       "                           CONTRACTOR           STARTDATE             ENDDATE  \\\n",
       "0   NORTH SHORE ENVIRONMENTAL SERVICE  12/19/2016 0:00:00  12/19/2016 0:00:00   \n",
       "1    MORAN ENVIRONMENTAL RECOVERY LLC   12/7/2016 0:00:00   12/7/2016 0:00:00   \n",
       "2  BAYSTATE CONTRACTING SERVICES  INC   12/8/2016 0:00:00   12/8/2016 0:00:00   \n",
       "3               NORTHEAST REMEDIATION   12/3/2016 0:00:00   12/7/2016 0:00:00   \n",
       "4                 DEC-TAM CORPORATION  12/10/2016 0:00:00  12/10/2016 0:00:00   \n",
       "\n",
       "            EXPORTDATE  \n",
       "0  12/19/2016 10:08:48  \n",
       "1  12/19/2016 10:08:48  \n",
       "2  12/19/2016 10:08:48  \n",
       "3  12/19/2016 10:08:48  \n",
       "4  12/19/2016 10:08:48  "
      ]
     },
     "execution_count": 5,
     "metadata": {},
     "output_type": "execute_result"
    }
   ],
   "source": [
    "print anf.shape\n",
    "anf.head()"
   ]
  },
  {
   "cell_type": "markdown",
   "metadata": {},
   "source": [
    "Check for and reconcile missing data"
   ]
  },
  {
   "cell_type": "code",
   "execution_count": 6,
   "metadata": {
    "collapsed": false
   },
   "outputs": [
    {
     "data": {
      "text/plain": [
       "ADDRESS       0\n",
       "FORMTYPE      0\n",
       "STICKER.      0\n",
       "CONTRACTOR    0\n",
       "STARTDATE     0\n",
       "ENDDATE       0\n",
       "EXPORTDATE    0\n",
       "dtype: int64"
      ]
     },
     "execution_count": 6,
     "metadata": {},
     "output_type": "execute_result"
    }
   ],
   "source": [
    "aq06.isnull().sum()"
   ]
  },
  {
   "cell_type": "code",
   "execution_count": 7,
   "metadata": {
    "collapsed": false
   },
   "outputs": [
    {
     "data": {
      "text/html": [
       "<div>\n",
       "<table border=\"1\" class=\"dataframe\">\n",
       "  <thead>\n",
       "    <tr style=\"text-align: right;\">\n",
       "      <th></th>\n",
       "      <th>ADDRESS</th>\n",
       "      <th>FORMTYPE</th>\n",
       "      <th>STICKER.</th>\n",
       "      <th>CONTRACTOR</th>\n",
       "      <th>STARTDATE</th>\n",
       "      <th>ENDDATE</th>\n",
       "      <th>EXPORTDATE</th>\n",
       "    </tr>\n",
       "  </thead>\n",
       "  <tbody>\n",
       "  </tbody>\n",
       "</table>\n",
       "</div>"
      ],
      "text/plain": [
       "Empty DataFrame\n",
       "Columns: [ADDRESS, FORMTYPE, STICKER., CONTRACTOR, STARTDATE, ENDDATE, EXPORTDATE]\n",
       "Index: []"
      ]
     },
     "execution_count": 7,
     "metadata": {},
     "output_type": "execute_result"
    }
   ],
   "source": [
    "aq06[aq06.FORMTYPE.isnull()]"
   ]
  },
  {
   "cell_type": "code",
   "execution_count": 8,
   "metadata": {
    "collapsed": false
   },
   "outputs": [],
   "source": [
    "def replace_null(df,col_name,value):\n",
    "    df[col_name] = df[col_name].fillna(value)\n",
    "\n",
    "replace_null(aq06,'FORMTYPE','AQ-06')"
   ]
  },
  {
   "cell_type": "code",
   "execution_count": 9,
   "metadata": {
    "collapsed": false
   },
   "outputs": [
    {
     "data": {
      "text/plain": [
       "ADDRESS       0\n",
       "FORMTYPE      0\n",
       "STICKER.      0\n",
       "CONTRACTOR    0\n",
       "STARTDATE     0\n",
       "ENDDATE       0\n",
       "EXPORTDATE    0\n",
       "dtype: int64"
      ]
     },
     "execution_count": 9,
     "metadata": {},
     "output_type": "execute_result"
    }
   ],
   "source": [
    "anf.isnull().sum()"
   ]
  },
  {
   "cell_type": "code",
   "execution_count": 10,
   "metadata": {
    "collapsed": false
   },
   "outputs": [
    {
     "data": {
      "text/plain": [
       "(1290, 7)"
      ]
     },
     "execution_count": 10,
     "metadata": {},
     "output_type": "execute_result"
    }
   ],
   "source": [
    "open_today = pd.DataFrame()\n",
    "open_today = open_today.append(aq06)\n",
    "open_today = open_today.append(anf)\n",
    "open_today.shape"
   ]
  },
  {
   "cell_type": "code",
   "execution_count": 11,
   "metadata": {
    "collapsed": false
   },
   "outputs": [
    {
     "name": "stdout",
     "output_type": "stream",
     "text": [
      "Empty DataFrame\n",
      "Columns: [ADDRESS, FORMTYPE, STICKER., CONTRACTOR, STARTDATE, ENDDATE, EXPORTDATE]\n",
      "Index: []\n"
     ]
    }
   ],
   "source": [
    "#check for SAME\n",
    "print open_today.loc[open_today['CONTRACTOR']=='SAME']"
   ]
  },
  {
   "cell_type": "code",
   "execution_count": 12,
   "metadata": {
    "collapsed": false
   },
   "outputs": [
    {
     "name": "stdout",
     "output_type": "stream",
     "text": [
      "ANF-001    1165\n",
      "AQ-06       125\n",
      "Name: FORMTYPE, dtype: int64\n"
     ]
    }
   ],
   "source": [
    "#check FORMTYPE values\n",
    "print open_today['FORMTYPE'].value_counts()"
   ]
  },
  {
   "cell_type": "code",
   "execution_count": 13,
   "metadata": {
    "collapsed": false
   },
   "outputs": [],
   "source": [
    "#clean up FORMTYPE\n",
    "open_today.loc[open_today['FORMTYPE'].str.contains('06'),'FORMTYPE']='aq06'\n",
    "open_today.loc[open_today['FORMTYPE'].str.contains('001'),'FORMTYPE']='anf001'"
   ]
  },
  {
   "cell_type": "markdown",
   "metadata": {},
   "source": [
    "Remove punctuation from all text fields and convert to uppercase"
   ]
  },
  {
   "cell_type": "code",
   "execution_count": 14,
   "metadata": {
    "collapsed": true
   },
   "outputs": [],
   "source": [
    "#copy CONTRACTOR to CON to preserve original name; all edtis to be done on CON\n",
    "for row in open_today:\n",
    "    open_today['CON'] = open_today['CONTRACTOR']"
   ]
  },
  {
   "cell_type": "code",
   "execution_count": 15,
   "metadata": {
    "collapsed": false
   },
   "outputs": [
    {
     "name": "stdout",
     "output_type": "stream",
     "text": [
      "193\n"
     ]
    },
    {
     "data": {
      "text/plain": [
       "DEC-TAM CORPORATION                          64\n",
       "FJC ENTERPRISES INC                          59\n",
       "AIR SAFE  INC                                51\n",
       "NORTHSTAR CONTRACTING GROUP INC              43\n",
       "ABIDE INC                                    39\n",
       "NEW ROADS ENVIRONMENTAL SERVICES LLC         38\n",
       "NATIONAL ABATEMENT INC                       36\n",
       "NORTHEAST REMEDIATION                        31\n",
       "BANNER ENVIRONMENTAL SERVICES INC            29\n",
       "NON LICENSED REMOVAL                         25\n",
       "WALSH ENVIRONMENTAL SERVICES                 22\n",
       "AMERICAN ENVIRONMENTAL INC                   21\n",
       "ENVIRONMENTAL RESPONSE SERVICES  INC         21\n",
       "THE AULSON COMPANY INC                       20\n",
       "ASBESTOS FREE  INC                           18\n",
       "S & S ABATEMENT LLC                          18\n",
       "BAYSTATE CONTRACTING SERVICES  INC           18\n",
       "COMPASS RESTORATION SERVICE SERVICES  LLC    17\n",
       "INFINITY ABATEMENT SERVICES INC              15\n",
       "ACCOLADE ENVIRO                              15\n",
       "CLEAN AIR ENVIRONMENTAL INC                  14\n",
       "MORAN ENVIRONMENTAL RECOVERY LLC             14\n",
       "DUDLEY SERVICES INC                          13\n",
       "ECONOMIC ENVIRO TECHS                        13\n",
       "NEW ENGLAND SURFACE MAINTENANCE LLP          13\n",
       "BRISTOL ENVIRONMENTAL  INC                   13\n",
       "ADVANCED ABATEMENT & INSULATION CO           12\n",
       "ADVANCED BUILDING SYSTEMS INC                12\n",
       "BARILE ENVIRONMENTAL                         12\n",
       "TOP NOTCH ABATEMENT                          12\n",
       "ENVIRONMENTAL SOLUTIONS  INC                 12\n",
       "KARMA ENVIRONMENTAL SVS INC                  12\n",
       "PRESTIGE ENVIRONMENTAL                       12\n",
       "SEN CAM  INC                                 12\n",
       "ATLANTIC BAY CONTRACTING COMPANY INC         11\n",
       "AFFORDABLE ENVIRONMENTAL                     11\n",
       "GREEN ENVIRONMENTAL                          11\n",
       "OMNI ENVIRONMENTAL LLC                       10\n",
       "BRILLIANT ENVIRONMENTAL SERVICE              10\n",
       "JR VINAGRO CORPORATION                        9\n",
       "NEW ENGLAND ASBESTOS ABATEMENT                9\n",
       "A & E ENVIRONMENTAL INC                       9\n",
       "SCS ENVIRONMENTAL SERVICES  INC               9\n",
       "J.R VINAGRO CORPORATION                       9\n",
       "ENVIRONMENTAL EXPERTS INC                     8\n",
       "ENVI LABOR SERVIVES INC                       8\n",
       "THE AULSON COMPANY LLC                        8\n",
       "A-BEST ABATEMENT  INC                         8\n",
       "ELAINE CONSTRUCTION COMPANY, INC.             8\n",
       "A-D & T ENTERPRISE INC                        8\n",
       "VAREIKA CONSTRUCTION INC                      8\n",
       "ADEP GROUP INC                                8\n",
       "SMI DEMOLITION, INC.                          7\n",
       "ONE SOURCE ENVIRONMENTAL LLC                  7\n",
       "AIR QUALITY EXPERTS  INC                      7\n",
       "PREMIER ABATEMENT&LABOR SERVICES              7\n",
       "IMPRESAIR ENVIRONMENTAL CORPORATION           7\n",
       "NG ENVIRONMENTAL CONTRACTORS LLC              7\n",
       "ELITE ENVIRONMENTAL SOLUTIONS, LLC            7\n",
       "ACME ABATEMENT CONTRACTOR INC                 7\n",
       "ASSOCIATED BUILDING WRECKERS                  7\n",
       "Aero Tech Environmental                       6\n",
       "BIG SHIP BUILDERS                             6\n",
       "SOUTHERN MIDDLESEX INDUSTRIES INC             6\n",
       "SELECT DEMO SERVICES                          6\n",
       "WHALING CITY ENVIRONMENTAL                    6\n",
       "BAYSTATE HOME GUARD  INC                      5\n",
       "Strategic Environmental Services inc          5\n",
       "CLEAR SERVICES ENVIRONMENTAL CONTRACTORS      5\n",
       "PENIEL ENVIRONMENTAL SOLUTIONS LLC            5\n",
       "J.R. VINAGRO CORPORATION                      5\n",
       "MILL CITY ENVIRONMENTAL CORPORATION           5\n",
       "ENVIRO STAFFING SOLUTIONS                     5\n",
       "S & R CONTRACTING                             5\n",
       "FEDERAL ENVIRONMENTAL GROUP INC               5\n",
       "COMMERCIAL ENERGY MANAGEMENT  INC             5\n",
       "AMERICAN ENVIRONMENTAL DEMOLITION             5\n",
       "WINFIELD S  HANCOCK & CO INC                  5\n",
       "SPRINGFIELD ABATEMENT INC                     4\n",
       "ENVIRONMENTAL RESTORATIONS INC                4\n",
       "LTI ENVIRONMENTAL SERVICE INC                 4\n",
       "CORE CONTRACTING                              4\n",
       "ENCORE CONTRACTING SERVICES INC               4\n",
       "NORTH SHORE ENVIRONMENTAL SERVICE             4\n",
       "UNITED SERVICE COMPANY                        4\n",
       "SORIANO ENVIRONMENTAL                         4\n",
       "GLOBAL COMPASS INC                            4\n",
       "NASDI LLC                                     4\n",
       "RAY SERVICES INC                              3\n",
       "JDC DEMOLITION COMPANY, INC.                  3\n",
       "ATLANTIC CONTRACTING & SPECIALTIES  LLC       3\n",
       "ASSOCIATED CONTRACTORS WRECKERS INC           3\n",
       "AMERICAN ENVIRONMENTAL, INC.                  3\n",
       "ABSOLUTE ENVIRONMENTAL  INC                   3\n",
       "ALLSTATE ASBESTOS ABATEMENT                   3\n",
       "FIBER CONTROL INC                             3\n",
       "SRS CONTRACTORS  INC                          3\n",
       "YANKEE FIBER CONTROL INC                      3\n",
       "KIDDER BUILDING & WRECKING, INC.              3\n",
       "MERRIMACK ENVIRONMENTAL SOLUTION CORP         3\n",
       "FRANKLIN ANALYTICAL SERVICES                  3\n",
       "JDC DEMOLITION COMPANY, INC                   2\n",
       "WISE CONSTRUCTION CORP.                       2\n",
       "C.E. FLOYD COMPANY, INC.                      2\n",
       "CONSIGLI CONSTRUCTION CO.,INC                 2\n",
       "SHAWMUT DESIGN AND CONSTRUCTION               2\n",
       "TURNER CONSTRUCTION                           2\n",
       "CUTTING EDGE ENVIRONMENTAL                    2\n",
       "GIBSON ROOFS INC                              2\n",
       "AMERICAN ENVIRONMENTAL,INC.                   2\n",
       "FRANCESCO DEMOLITION, INC.                    2\n",
       "ULTIMATE ABATEMENT  INC                       2\n",
       "NEW HAMPSHIRE DEMOLITION                      2\n",
       "AM ENTERPRISES CORP                           2\n",
       "E&F ENVIRONMENTAL SERVICES LLC                2\n",
       "HOPE TRUCKING & DEMO INC.                     2\n",
       "GOMES REMOVAL SERVICES                        2\n",
       "MassGreen Environmental, Inc                  2\n",
       "MCCONNELL ENTERPRISES INC                     2\n",
       "WESTERN MASS ENVIRONMENTAL LLC                2\n",
       "DEC-TAM                                       2\n",
       "A & J DEMOLITION SERVICES CORP                2\n",
       "LAKE CONTRACTING INC                          2\n",
       "ALL STATE ENVIRONMENTAL INC                   2\n",
       "AMERICAN CONSTRUCTION TRADES CORPORATION      2\n",
       "PATRIOTS ENVIRONMENTAL CORP                   2\n",
       "ENVIROVANTAGE INC DBA LEAD SOURCE             2\n",
       "GLOUCESTER BUILDERS INC                       2\n",
       "ALL STATE ABATEMENT PROFESSIONALS             2\n",
       "SMS SERVICES SERVICES, INC.                   1\n",
       "JAMES G. GRANT CO.                            1\n",
       "PAUL DAVIS RESTORATION                        1\n",
       "STARLITE                                      1\n",
       "WESCOR LTD                                    1\n",
       "LAKE CONTRACTING, INC.                        1\n",
       "JAMES G. GRANT CO., INC                       1\n",
       "CUTLER ASSOCIATES, INC.                       1\n",
       "ENVIROGREEN LLC                               1\n",
       "NORTHEAST SERVICES INC                        1\n",
       "ASBESTOS MAN REMOVAL                          1\n",
       "SMS SERVICES, INC.                            1\n",
       "M.J. SCULLY & COMPANY                         1\n",
       "BOSTON DEMOLITION SERVICE COMPANY             1\n",
       "GILBANE BUILDING COMPANY                      1\n",
       "Atlantic Coast Dismantling                    1\n",
       "HEMENHALT CONSTRUCTION                        1\n",
       "REYNOLDS CONSTRUCTION SERVICES INC            1\n",
       "GREENLEAF ENVIRONMENTAL INC                   1\n",
       "ADVANCE DEMOLITION LLC                        1\n",
       "BERKELEY BUILDING COMPANY                     1\n",
       "DECONSTRUCTION WORKS                          1\n",
       "JAMES G. GRANT CO., INC.                      1\n",
       "PRO CON INC                                   1\n",
       "CARDINAL ENVIRONMENTAL LLC                    1\n",
       "ADVANCED BUILDING SYSTEMS, INC.               1\n",
       "ELAINE CONSTRUCTION COMPANY, INC,             1\n",
       "DIVERSIFIED CONSTRUCTION GROUP, LLC           1\n",
       "ASTON CONTRACTING, LLC                        1\n",
       "AA ASTBESTOS ABATEMENT COMPANY INC            1\n",
       "HAZARDOUS ABATEMENT SERVICES                  1\n",
       "FIBER CONTROL INC.                            1\n",
       "S&W PAVING                                    1\n",
       "NASDI, LLC                                    1\n",
       "BUILD-IT CONSTRUCTION                         1\n",
       "CHAPMAN CONSTRUCTION AND DESIGN               1\n",
       "NORTHSTAR CONTRACTING GROUP INC.              1\n",
       "GOLDEN GATES SERVICES INC                     1\n",
       "ANDERSON COURTS AND SPORTS SURFACES INC       1\n",
       "J. L. DUNN & COMPANY                          1\n",
       "STARR DEVELOPMENT PARTNERS                    1\n",
       "ABATEMENT SOLUTION,LLC                        1\n",
       "ROBERT COMMERCIAL CONSTRUCTION                1\n",
       "STRUCTURETONE, INC.                           1\n",
       "TITAN ROOFING INC                             1\n",
       "STRUCTURETONE                                 1\n",
       "CONSIGLI CONSTRUCTION CO.,INC.                1\n",
       "CHAPMAN CONSTRUCTION/DESIGN                   1\n",
       "TOM OBRIEN                                    1\n",
       "SPEAKMAN EXCAVATING LLC                       1\n",
       "TRUCK CRANE SERVICE, INC                      1\n",
       "RIGGS CONTRACTING INC.                        1\n",
       "TRITON LEASING & RENTAL INC                   1\n",
       "NORTHERN CONTRACTING CORP.                    1\n",
       "NG ENVIRONMENTAL CONTRACTORS, LLC             1\n",
       "SKINNER DEMOLITION                            1\n",
       "G. GREENE CONSTRUCTION                        1\n",
       "DESCO PROFESSIONAL BUILDERS INC               1\n",
       "SMI DEMOLITION INC                            1\n",
       "J. CALNAN & ASSOCIATES                        1\n",
       "MASS ELECTRIC CONSTRUCTION COMPANY            1\n",
       "BOND BROTHERS, INC                            1\n",
       "DOW CAD                                       1\n",
       "TMC SERVICES INC                              1\n",
       "Name: CON, dtype: int64"
      ]
     },
     "execution_count": 15,
     "metadata": {},
     "output_type": "execute_result"
    }
   ],
   "source": [
    "#count unique CON\n",
    "print len(open_today['CON'].value_counts())\n",
    "open_today['CON'].value_counts()"
   ]
  },
  {
   "cell_type": "code",
   "execution_count": 16,
   "metadata": {
    "collapsed": false
   },
   "outputs": [],
   "source": [
    "def upper_no_punct(df,col_name):\n",
    "    for field in df[col_name]:\n",
    "        new_field = field.translate(None, string.punctuation).upper()\n",
    "        df[col_name] = df[col_name].replace(field,new_field)\n",
    "\n",
    "upper_no_punct(open_today,'CON')\n",
    "#370-->341 aq06 only\n",
    "#502-->463 aq06 + anf"
   ]
  },
  {
   "cell_type": "code",
   "execution_count": 17,
   "metadata": {
    "collapsed": true
   },
   "outputs": [],
   "source": [
    "#Replaces 'pattern' in 'string' with 'sub' if 'pattern' starts 'string'\n",
    "def lreplace(pattern, sub, string):\n",
    "    return re.sub('^%s' % pattern, sub, string)\n",
    "\n",
    "#Replaces 'pattern' in 'string' with 'sub' if 'pattern' ends 'string'\n",
    "def rreplace(pattern, sub, string):\n",
    "    return re.sub('%s$' % pattern, sub, string)"
   ]
  },
  {
   "cell_type": "code",
   "execution_count": 18,
   "metadata": {
    "collapsed": false
   },
   "outputs": [],
   "source": [
    "#standardize abbreviations and misspellings\n",
    "def remove_abbrev(df, col_name, old_string, new_string):\n",
    "    for field in df[col_name]:\n",
    "        new_field = field.replace(old_string,new_string)\n",
    "        df[col_name] = df[col_name].replace(field,new_field)\n",
    "\n",
    "#remove abbreviations that appear at the end of the string only (ex: CO at the end, but not CO in CONSTRUCTION)\n",
    "def remove_ending(df, col_name, ending):\n",
    "    for field in df.loc[df[col_name].str.endswith(ending),col_name]:\n",
    "        new_field = rreplace(ending,'',field)\n",
    "        new_field = new_field.rstrip()\n",
    "        df[col_name] = df[col_name].replace(field,new_field)"
   ]
  },
  {
   "cell_type": "code",
   "execution_count": 19,
   "metadata": {
    "collapsed": true
   },
   "outputs": [],
   "source": [
    "#slower?\n",
    "abbrevs = {\n",
    "    'AND':('ADN',),\n",
    "    'BRO':('BROS',\n",
    "           'BROTHER',\n",
    "           'BROTHERS'),\n",
    "    'BUILDING':('BUIDLING',\n",
    "                'BUILIDNG'),\n",
    "    'CAULFIELD':('CAULLFIELD',),\n",
    "    'CONSTRUCTION':('CONSTRCTION',\n",
    "                    'CONSTRCUTION',\n",
    "                    'CONSTRUCION',\n",
    "                    'CONSTRUCTON',\n",
    "                    'CONSTRUCTUON',\n",
    "                    'CONSTRUTION',\n",
    "                    'CONTRUCTION',),\n",
    "    'CORP':('CORPORATION',\n",
    "            'CORPORATIO',\n",
    "            'CORPOTATION',),\n",
    "    'DESIGN':('DEISGN',),\n",
    "    'DEMO':('DEMOLIITION',\n",
    "            'DEMOLITION',\n",
    "            'DEMOLTION'),\n",
    "    'ENVIRONMENTAL':('ENVIRONMENATL',\n",
    "                    'ENVIRONMETAL'),\n",
    "    'INC':('INCORPORATED',),\n",
    "    'JK SCANLAN':('JKS',),\n",
    "    'SHAWMUT':('SAHWMUT',),\n",
    "    'STRUCTURETONE':('STRUCTURE TONE',\n",
    "                    'STURUCTURE TONE',),\n",
    "    'SON':('SONS',),\n",
    "    'DISMANTLING':('DISMANTLIING',),\n",
    "}\n",
    "\n",
    "spacing = {\n",
    "    ' ':('  ',),\n",
    "}\n",
    "\n",
    "endings = [\n",
    "    'LLC',\n",
    "    'COINC',\n",
    "    'INC',\n",
    "    'COMPANY',\n",
    "    'CORP',\n",
    "    'LLP',\n",
    "    'DESIGN',\n",
    "    'CO',\n",
    "    'CONC',\n",
    "    'MANAGERS',\n",
    "    'GROUP',\n",
    "    'SERVICES',\n",
    "    'SERVICE',\n",
    "    'AND',\n",
    "]\n",
    "\n",
    "for new_string, old_strings in abbrevs.iteritems():\n",
    "    for old_string in old_strings: \n",
    "        remove_abbrev(open_today, 'CON', old_string, new_string)\n",
    "\n",
    "for ending in endings:\n",
    "        remove_ending(open_today, 'CON', ending)\n",
    "        \n",
    "for new_string, old_strings in spacing.iteritems():\n",
    "    for old_string in old_strings: \n",
    "        remove_abbrev(open_today, 'CON', old_string, new_string)\n",
    "#341-->273 aq06 only\n",
    "#463--382 aq06 + anf"
   ]
  },
  {
   "cell_type": "code",
   "execution_count": 20,
   "metadata": {
    "collapsed": false
   },
   "outputs": [
    {
     "name": "stdout",
     "output_type": "stream",
     "text": [
      "173\n"
     ]
    },
    {
     "data": {
      "text/plain": [
       "DECTAM                                      66\n",
       "FJC ENTERPRISES                             59\n",
       "AIR SAFE                                    51\n",
       "NORTHSTAR CONTRACTING                       44\n",
       "ABIDE                                       39\n",
       "NEW ROADS ENVIRONMENTAL                     38\n",
       "NATIONAL ABATEMENT                          36\n",
       "NORTHEAST REMEDIATION                       31\n",
       "BANNER ENVIRONMENTAL                        29\n",
       "THE AULSON                                  28\n",
       "AMERICAN ENVIRONMENTAL                      26\n",
       "NON LICENSED REMOVAL                        25\n",
       "JR VINAGRO                                  23\n",
       "WALSH ENVIRONMENTAL                         22\n",
       "ENVIRONMENTAL RESPONSE                      21\n",
       "ASBESTOS FREE                               18\n",
       "BAYSTATE CONTRACTING                        18\n",
       "S S ABATEMENT                               18\n",
       "COMPASS RESTORATION                         17\n",
       "ACCOLADE ENVIRO                             15\n",
       "INFINITY ABATEMENT                          15\n",
       "MORAN ENVIRONMENTAL RECOVERY                14\n",
       "CLEAN AIR ENVIRONMENTAL                     14\n",
       "DUDLEY                                      13\n",
       "ECONOMIC ENVIRO TECHS                       13\n",
       "BRISTOL ENVIRONMENTAL                       13\n",
       "NEW ENGLAND SURFACE MAINTENANCE             13\n",
       "ADVANCED BUILDING SYSTEMS                   13\n",
       "PRESTIGE ENVIRONMENTAL                      12\n",
       "KARMA ENVIRONMENTAL SVS                     12\n",
       "ENVIRONMENTAL SOLUTIONS                     12\n",
       "SEN CAM                                     12\n",
       "BARILE ENVIRONMENTAL                        12\n",
       "TOP NOTCH ABATEMENT                         12\n",
       "ADVANCED ABATEMENT INSULATION               12\n",
       "AFFORDABLE ENVIRONMENTAL                    11\n",
       "GREEN ENVIRONMENTAL                         11\n",
       "ATLANTIC BAY CONTRACTING                    11\n",
       "BRILLIANT ENVIRONMENTAL                     10\n",
       "OMNI ENVIRONMENTAL                          10\n",
       "ELAINE CONSTRUCTION                          9\n",
       "A E ENVIRONMENTAL                            9\n",
       "NEW ENGLAND ASBESTOS ABATEMENT               9\n",
       "SCS ENVIRONMENTAL                            9\n",
       "ENVI LABOR SERVIVES                          8\n",
       "SMI DEMO                                     8\n",
       "ABEST ABATEMENT                              8\n",
       "NG ENVIRONMENTAL CONTRACTORS                 8\n",
       "ADEP                                         8\n",
       "VAREIKA CONSTRUCTION                         8\n",
       "ENVIRONMENTAL EXPERTS                        8\n",
       "AD T ENTERPRISE                              8\n",
       "ONE SOURCE ENVIRONMENTAL                     7\n",
       "IMPRESAIR ENVIRONMENTAL                      7\n",
       "PREMIER ABATEMENTLABOR                       7\n",
       "ACME ABATEMENT CONTRACTOR                    7\n",
       "ELITE ENVIRONMENTAL SOLUTIONS                7\n",
       "ASSOCIATED BUILDING WRECKERS                 7\n",
       "AIR QUALITY EXPERTS                          7\n",
       "AERO TECH ENVIRONMENTAL                      6\n",
       "WHALING CITY ENVIRONMENTAL                   6\n",
       "SOUTHERN MIDDLESEX INDUSTRIES                6\n",
       "BIG SHIP BUILDERS                            6\n",
       "SELECT DEMO                                  6\n",
       "JDC DEMO                                     5\n",
       "AMERICAN ENVIRONMENTAL DEMO                  5\n",
       "NASDI                                        5\n",
       "PENIEL ENVIRONMENTAL SOLUTIONS               5\n",
       "MILL CITY ENVIRONMENTAL                      5\n",
       "WINFIELD S HANCOCK                           5\n",
       "CLEAR SERVICES ENVIRONMENTAL CONTRACTORS     5\n",
       "COMMERCIAL ENERGY MANAGEMENT                 5\n",
       "STRATEGIC ENVIRONMENTAL                      5\n",
       "ENVIRO STAFFING SOLUTIONS                    5\n",
       "FEDERAL ENVIRONMENTAL                        5\n",
       "S R CONTRACTING                              5\n",
       "BAYSTATE HOME GUARD                          5\n",
       "SPRINGFIELD ABATEMENT                        4\n",
       "SORIANO ENVIRONMENTAL                        4\n",
       "GLOBAL COMPASS                               4\n",
       "UNITED                                       4\n",
       "NORTH SHORE ENVIRONMENTAL                    4\n",
       "ENVIRONMENTAL RESTORATIONS                   4\n",
       "ENCORE CONTRACTING                           4\n",
       "LTI ENVIRONMENTAL                            4\n",
       "FIBER CONTROL                                4\n",
       "CORE CONTRACTING                             4\n",
       "YANKEE FIBER CONTROL                         3\n",
       "KIDDER BUILDING WRECKING                     3\n",
       "ASSOCIATED CONTRACTORS WRECKERS              3\n",
       "JAMES G GRANT                                3\n",
       "CONSIGLI CONSTRUCTION                        3\n",
       "ATLANTIC CONTRACTING SPECIALTIES             3\n",
       "ABSOLUTE ENVIRONMENTAL                       3\n",
       "MERRIMACK ENVIRONMENTAL SOLUTION             3\n",
       "FRANKLIN ANALYTICAL                          3\n",
       "SRS CONTRACTORS                              3\n",
       "RAY                                          3\n",
       "LAKE CONTRACTING                             3\n",
       "ALLSTATE ASBESTOS ABATEMENT                  3\n",
       "HOPE TRUCKING DEMO                           2\n",
       "CE FLOYD                                     2\n",
       "AMERICAN CONSTRUCTION TRADES                 2\n",
       "NEW HAMPSHIRE DEMO                           2\n",
       "STRUCTURETONE                                2\n",
       "CHAPMAN CONSTRUCTION                         2\n",
       "ULTIMATE ABATEMENT                           2\n",
       "CUTTING EDGE ENVIRONMENTAL                   2\n",
       "ALL STATE ENVIRONMENTAL                      2\n",
       "WISE CONSTRUCTION                            2\n",
       "GOMES REMOVAL                                2\n",
       "EF ENVIRONMENTAL                             2\n",
       "A J DEMO                                     2\n",
       "PATRIOTS ENVIRONMENTAL                       2\n",
       "AM ENTERPRISES                               2\n",
       "ALL STATE ABATEMENT PROFESSIONALS            2\n",
       "MCCONNELL ENTERPRISES                        2\n",
       "MASSGREEN ENVIRONMENTAL                      2\n",
       "ENVIROVANTAGE INC DBA LEAD SOURCE            2\n",
       "SHAWMUT DESIGN AND CONSTRUCTION              2\n",
       "WESTERN MASS ENVIRONMENTAL                   2\n",
       "GIBSON ROOFS                                 2\n",
       "TURNER CONSTRUCTION                          2\n",
       "FRANCESCO DEMO                               2\n",
       "GLOUCESTER BUILDERS                          2\n",
       "WESCOR LTD                                   1\n",
       "TITAN ROOFING                                1\n",
       "DESCO PROFESSIONAL BUILDERS                  1\n",
       "PAUL DAVIS RESTORATION                       1\n",
       "TMC                                          1\n",
       "MJ SCULLY                                    1\n",
       "GREENLEAF ENVIRONMENTAL                      1\n",
       "PRO CON                                      1\n",
       "HEMENHALT CONSTRUCTION                       1\n",
       "SMS                                          1\n",
       "HAZARDOUS ABATEMENT                          1\n",
       "GILBANE BUILDING                             1\n",
       "REYNOLDS CONSTRUCTION                        1\n",
       "STARLITE                                     1\n",
       "BERKELEY BUILDING                            1\n",
       "STARR DEVELOPMENT PARTNERS                   1\n",
       "DECONSTRUCTION WORKS                         1\n",
       "ATLANTIC COAST DISMANTLING                   1\n",
       "RIGGS CONTRACTING                            1\n",
       "ENVIROGREEN                                  1\n",
       "SKINNER DEMO                                 1\n",
       "J CALNAN ASSOCIATES                          1\n",
       "MASS ELECTRIC CONSTRUCTION                   1\n",
       "TRITON LEASING RENTAL                        1\n",
       "G GREENE CONSTRUCTION                        1\n",
       "CUTLER ASSOCIATES                            1\n",
       "CARDINAL ENVIRONMENTAL                       1\n",
       "SMS SERVICES                                 1\n",
       "TRUCK CRANE                                  1\n",
       "J L DUNN                                     1\n",
       "ANDERSON COURTS AND SPORTS SURFACES          1\n",
       "BUILDIT CONSTRUCTION                         1\n",
       "SPEAKMAN EXCAVATING                          1\n",
       "BOND BROS                                    1\n",
       "ASBESTOS MAN REMOVAL                         1\n",
       "DOW CAD                                      1\n",
       "TOM OBRIEN                                   1\n",
       "ABATEMENT SOLUTION                           1\n",
       "BOSTON DEMO                                  1\n",
       "AA ASTBESTOS ABATEMENT                       1\n",
       "ROBERT COMMERCIAL CONSTRUCTION               1\n",
       "ADVANCE DEMO                                 1\n",
       "NORTHEAST                                    1\n",
       "DIVERSIFIED CONSTRUCTION                     1\n",
       "ASTON CONTRACTING                            1\n",
       "SW PAVING                                    1\n",
       "GOLDEN GATES                                 1\n",
       "NORTHERN CONTRACTING                         1\n",
       "Name: CON, dtype: int64"
      ]
     },
     "execution_count": 20,
     "metadata": {},
     "output_type": "execute_result"
    }
   ],
   "source": [
    "#count unique CON\n",
    "print len(open_today['CON'].value_counts())\n",
    "open_today['CON'].value_counts()"
   ]
  },
  {
   "cell_type": "markdown",
   "metadata": {
    "collapsed": true
   },
   "source": [
    "#faster?\n",
    "abbrevs = {\n",
    "    'ADN':'AND',\n",
    "    'BROS':'BRO',\n",
    "    'BROTHER':'BRO',\n",
    "    'BROTHERS':'BRO',\n",
    "    'BUIDLING':'BUILDING',\n",
    "    'BUILIDNG':'BUILDING',\n",
    "    'CAULLFIELD':'CAULFIELD',\n",
    "    'CONSTRCTION':'CONSTRUCTION',\n",
    "    'CONSTRCUTION':'CONSTRUCTION',\n",
    "    'CONSTRUCION':'CONSTRUCTION',\n",
    "    'CONSTRUCTON':'CONSTRUCTION',\n",
    "    'CONSTRUCTUON':'CONSTRUCTION',\n",
    "    'CONSTRUTION':'CONSTRUCTION',\n",
    "    'CONTRUCTION':'CONSTRUCTION',\n",
    "    'CORPORATION':'CORP',\n",
    "    'CORPORATIO':'CORP',\n",
    "    'CORPOTATION':'CORP',\n",
    "    'DEISGN':'DESIGN',\n",
    "    'DEMOLIITION':'DEMO',\n",
    "    'DEMOLITION':'DEMO',\n",
    "    'DEMOLTION':'DEMO',\n",
    "    'DISMANTLIING':'DISMANTLING',\n",
    "    'ENVIRONMENATL':'ENVIRONMENTAL',\n",
    "    'ENVIRONMETAL':'ENVIRONMENTAL',\n",
    "    'INCORPORATED':'INC',\n",
    "    'JKS':'JK SCANLAN',\n",
    "    'SAHWMUT':'SHAWMUT',\n",
    "    'STRUCTURE TONE':'STRUCTURETONE',\n",
    "    'STURUCTURE TONE':'STRUCTURETONE',\n",
    "    'SONS':'SON',    \n",
    "}\n",
    "\n",
    "spacing = {\n",
    "    '  ':' ',\n",
    "}\n",
    "\n",
    "endings = [\n",
    "    'LLC',\n",
    "    'COINC',\n",
    "    'INC',\n",
    "    'COMPANY',\n",
    "    'CORP',\n",
    "    'LLP',\n",
    "    'DESIGN',\n",
    "    'CO',\n",
    "    'CONC',\n",
    "    'MANAGERS',\n",
    "    'GROUP',\n",
    "    'SERVICES',\n",
    "    'SERVICE',\n",
    "    'AND',\n",
    "]\n",
    "\n",
    "for old_string, new_string in abbrevs.iteritems():\n",
    "    remove_abbrev(open_today, 'CON', old_string, new_string)\n",
    "\n",
    "for ending in endings:\n",
    "    remove_ending(open_today, 'CON', ending)\n",
    "        \n",
    "for old_string, new_strings in spacing.iteritems():\n",
    "    remove_abbrev(open_today, 'CON', old_string, new_string)\n",
    "#341-->273 aq06 only\n",
    "#463--382 aq06 + anf"
   ]
  },
  {
   "cell_type": "markdown",
   "metadata": {
    "collapsed": false
   },
   "source": [
    "#standardize abbreviations and misspellings using using re.sub\n",
    "def re_remove_abbrev(df, col_name, old_string, new_string):\n",
    "    for field in df[col_name]:\n",
    "        new_field = re.sub(old_string, new_string, old_string)\n",
    "        df[col_name] = df[col_name].replace(field,new_field)\n",
    "\n",
    "#fastest?\n",
    "abbrevs = {\n",
    "    'ADN':'AND',\n",
    "    'BROS':'BRO',\n",
    "    'BROTHER':'BRO',\n",
    "    'BROTHERS':'BRO',\n",
    "    'BUIDLING':'BUILDING',\n",
    "    'BUILIDNG':'BUILDING',\n",
    "    'CAULLFIELD':'CAULFIELD',\n",
    "    'CONSTRCTION':'CONSTRUCTION',\n",
    "    'CONSTRCUTION':'CONSTRUCTION',\n",
    "    'CONSTRUCION':'CONSTRUCTION',\n",
    "    'CONSTRUCTON':'CONSTRUCTION',\n",
    "    'CONSTRUCTUON':'CONSTRUCTION',\n",
    "    'CONSTRUTION':'CONSTRUCTION',\n",
    "    'CONTRUCTION':'CONSTRUCTION',\n",
    "    'CORPORATION':'CORP',\n",
    "    'CORPORATIO':'CORP',\n",
    "    'CORPOTATION':'CORP',\n",
    "    'DEISGN':'DESIGN',\n",
    "    'DEMOLIITION':'DEMO',\n",
    "    'DEMOLITION':'DEMO',\n",
    "    'DEMOLTION':'DEMO',\n",
    "    'DISMANTLIING':'DISMANTLING',\n",
    "    'ENVIRONMENATL':'ENVIRONMENTAL',\n",
    "    'ENVIRONMETAL':'ENVIRONMENTAL',\n",
    "    'INCORPORATED':'INC',\n",
    "    'JKS':'JK SCANLAN',\n",
    "    'SAHWMUT':'SHAWMUT',\n",
    "    'STRUCTURE TONE':'STRUCTURETONE',\n",
    "    'STURUCTURE TONE':'STRUCTURETONE',\n",
    "    'SONS':'SON',    \n",
    "}\n",
    "\n",
    "spacing = {\n",
    "    '  ':' ',\n",
    "}\n",
    "\n",
    "endings = [\n",
    "    'LLC',\n",
    "    'COINC',\n",
    "    'INC',\n",
    "    'COMPANY',\n",
    "    'CORP',\n",
    "    'LLP',\n",
    "    'DESIGN',\n",
    "    'CO',\n",
    "    'CONC',\n",
    "    'MANAGERS',\n",
    "    'GROUP',\n",
    "    'SERVICES',\n",
    "    'SERVICE',\n",
    "    'AND',\n",
    "]\n",
    "\n",
    "for old_string, new_string in abbrevs.iteritems():\n",
    "    re_remove_abbrev(open_today, 'CON', old_string, new_string)\n",
    "\n",
    "#for ending in endings:\n",
    "#    remove_ending(open_today, 'CON', ending)\n",
    "        \n",
    "#for old_string, new_strings in spacing.iteritems():\n",
    "#    remove_abbrev(open_today, 'CON', old_string, new_string)\n",
    "#341-->273 aq06 only\n",
    "#463--382 aq06 + anf"
   ]
  },
  {
   "cell_type": "code",
   "execution_count": 21,
   "metadata": {
    "collapsed": true
   },
   "outputs": [],
   "source": [
    "#write data to csv\n",
    "open_today.to_csv('where.csv', columns=('ADDRESS','FORMTYPE','STICKER.','CON','STARTDATE','ENDDATE','EXPORTDATE'), header=False, index=False)"
   ]
  },
  {
   "cell_type": "code",
   "execution_count": 22,
   "metadata": {
    "collapsed": false
   },
   "outputs": [
    {
     "name": "stdout",
     "output_type": "stream",
     "text": [
      "anf001    4\n",
      "aq06      1\n",
      "Name: FORMTYPE, dtype: int64\n"
     ]
    }
   ],
   "source": [
    "con = open_today[open_today['CON'].str.contains('NASDI')]\n",
    "print con['FORMTYPE'].value_counts()"
   ]
  },
  {
   "cell_type": "code",
   "execution_count": null,
   "metadata": {
    "collapsed": true
   },
   "outputs": [],
   "source": []
  }
 ],
 "metadata": {
  "anaconda-cloud": {},
  "kernelspec": {
   "display_name": "Python [tutorial]",
   "language": "python",
   "name": "Python [tutorial]"
  },
  "language_info": {
   "codemirror_mode": {
    "name": "ipython",
    "version": 2
   },
   "file_extension": ".py",
   "mimetype": "text/x-python",
   "name": "python",
   "nbconvert_exporter": "python",
   "pygments_lexer": "ipython2",
   "version": "2.7.11"
  }
 },
 "nbformat": 4,
 "nbformat_minor": 0
}
